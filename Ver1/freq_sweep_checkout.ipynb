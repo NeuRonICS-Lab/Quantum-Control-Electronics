{
 "cells": [
  {
   "cell_type": "code",
   "execution_count": 1,
   "id": "d6a92941",
   "metadata": {},
   "outputs": [
    {
     "data": {
      "application/javascript": [
       "\n",
       "try {\n",
       "require(['notebook/js/codecell'], function(codecell) {\n",
       "  codecell.CodeCell.options_default.highlight_modes[\n",
       "      'magic_text/x-csrc'] = {'reg':[/^%%microblaze/]};\n",
       "  Jupyter.notebook.events.one('kernel_ready.Kernel', function(){\n",
       "      Jupyter.notebook.get_cells().map(function(cell){\n",
       "          if (cell.cell_type == 'code'){ cell.auto_highlight(); } }) ;\n",
       "  });\n",
       "});\n",
       "} catch (e) {};\n"
      ]
     },
     "metadata": {},
     "output_type": "display_data"
    },
    {
     "data": {
      "application/javascript": [
       "\n",
       "try {\n",
       "require(['notebook/js/codecell'], function(codecell) {\n",
       "  codecell.CodeCell.options_default.highlight_modes[\n",
       "      'magic_text/x-csrc'] = {'reg':[/^%%pybind11/]};\n",
       "  Jupyter.notebook.events.one('kernel_ready.Kernel', function(){\n",
       "      Jupyter.notebook.get_cells().map(function(cell){\n",
       "          if (cell.cell_type == 'code'){ cell.auto_highlight(); } }) ;\n",
       "  });\n",
       "});\n",
       "} catch (e) {};\n"
      ]
     },
     "metadata": {},
     "output_type": "display_data"
    },
    {
     "name": "stdout",
     "output_type": "stream",
     "text": [
      "passed\n"
     ]
    }
   ],
   "source": [
    "import numpy as np\n",
    "import xrfdc\n",
    "import xrfclk\n",
    "import os\n",
    "#from pynq import Xlnk\n",
    "from pynq import Overlay\n",
    "from pynq.lib import AxiGPIO\n",
    "from pynq import allocate\n",
    "import numpy as np\n",
    "import socket\n",
    "import time\n",
    "import sys\n",
    "from pynq import Clocks\n",
    "from time import sleep\n",
    "import multiprocessing, time\n",
    "import logging, sys\n",
    "from pynq import MMIO\n",
    "import matplotlib.pyplot as plt\n",
    "import threading \n",
    "\n",
    "fpath = os.path.join(os.path.abspath(''), 'SQ_CARS')\n",
    "sys.path.append(fpath)\n",
    "#print(sys.path)\n",
    "\n",
    "import SQ_CARS"
   ]
  },
  {
   "cell_type": "code",
   "execution_count": 10,
   "id": "9b398d67",
   "metadata": {},
   "outputs": [
    {
     "name": "stderr",
     "output_type": "stream",
     "text": [
      "DEBUG:root:val of i is 0\n",
      "DEBUG:root:Port added 503 for adc channel 0\n",
      "DEBUG:root:val of i is 1\n",
      "DEBUG:root:Port added 504 for adc channel 1\n",
      "DEBUG:root:val of i is 2\n",
      "DEBUG:root:Port added 505 for adc channel 2\n",
      "DEBUG:root:val of i is 3\n",
      "DEBUG:root:Port added 506 for adc channel 3\n"
     ]
    }
   ],
   "source": [
    "from IPython.lib import backgroundjobs as bg\n",
    "jobs = bg.BackgroundJobManager()\n",
    "thisConfig = SQ_CARS.mainConfig(SQ_CARS.config)"
   ]
  },
  {
   "cell_type": "code",
   "execution_count": 3,
   "id": "d290cd04",
   "metadata": {
    "scrolled": true
   },
   "outputs": [
    {
     "name": "stderr",
     "output_type": "stream",
     "text": [
      "DEBUG:root:Programmed Dac experimental param sleep_time with val 124f800\n",
      "DEBUG:root:Programmed Dac experimental param time_between_pulses with val 17\n",
      "DEBUG:root:Programmed Dac experimental param trigger_time with val 0\n",
      "DEBUG:root:Programmed Dac experimental param inner_loop_step with val 13\n",
      "DEBUG:root:Programmed Dac experimental param inner_loop_count with val 3c0\n",
      "DEBUG:root:Programmed Dac experimental param repetition_rate with val 780\n",
      "DEBUG:root:Programmed Dac experimental param outer_loop_count with val 1f4\n",
      "DEBUG:root:Programmed Dac experimental param amplitude_factor with val 7fff\n",
      "DEBUG:root:Programmed Dac experimental param n_s_4 with val 12d\n",
      "DEBUG:root:Programmed Dac experimental param gaussian_width with val 12d\n",
      "DEBUG:root:Programmed Dac experimental param adc_dac_lat with val 0\n",
      "DEBUG:root:Programmed Dac experimental param trigger_delay with val 0\n",
      "DEBUG:root:Programmed Dac experimental param trigger_width with val 12d\n"
     ]
    },
    {
     "name": "stdout",
     "output_type": "stream",
     "text": [
      "n_s_4 in mode 0\n"
     ]
    },
    {
     "name": "stderr",
     "output_type": "stream",
     "text": [
      "DEBUG:root:Dac descriptor called for channel number 0\n",
      "DEBUG:root:Programmed Dac experimental param sleep_time with val 124f800\n",
      "DEBUG:root:Programmed Dac experimental param time_between_pulses with val 17\n",
      "DEBUG:root:Programmed Dac experimental param trigger_time with val 0\n",
      "DEBUG:root:Programmed Dac experimental param inner_loop_step with val 13\n",
      "DEBUG:root:Programmed Dac experimental param inner_loop_count with val 3c0\n",
      "DEBUG:root:Programmed Dac experimental param repetition_rate with val 780\n",
      "DEBUG:root:Programmed Dac experimental param outer_loop_count with val 1f4\n",
      "DEBUG:root:Programmed Dac experimental param amplitude_factor with val 7fff\n",
      "DEBUG:root:Programmed Dac experimental param n_s_4 with val 12d\n",
      "DEBUG:root:Programmed Dac experimental param gaussian_width with val 12d\n",
      "DEBUG:root:Programmed Dac experimental param adc_dac_lat with val 0\n",
      "DEBUG:root:Programmed Dac experimental param trigger_delay with val 0\n",
      "DEBUG:root:Programmed Dac experimental param trigger_width with val 12d\n"
     ]
    },
    {
     "name": "stdout",
     "output_type": "stream",
     "text": [
      "Super Class rf object is descriptor called for channel number <xrfdc.RFdc object at 0xffff9094eee0>\n",
      "n_s_4 in mode 0\n"
     ]
    },
    {
     "name": "stderr",
     "output_type": "stream",
     "text": [
      "DEBUG:root:Dac descriptor called for channel number 1\n",
      "DEBUG:root:Programmed Dac experimental param sleep_time with val 124f800\n",
      "DEBUG:root:Programmed Dac experimental param time_between_pulses with val 17\n",
      "DEBUG:root:Programmed Dac experimental param trigger_time with val 0\n",
      "DEBUG:root:Programmed Dac experimental param inner_loop_step with val 13\n",
      "DEBUG:root:Programmed Dac experimental param inner_loop_count with val 3c0\n",
      "DEBUG:root:Programmed Dac experimental param repetition_rate with val 780\n",
      "DEBUG:root:Programmed Dac experimental param outer_loop_count with val 1f4\n",
      "DEBUG:root:Programmed Dac experimental param amplitude_factor with val 7fff\n",
      "DEBUG:root:Programmed Dac experimental param n_s_4 with val 12d\n",
      "DEBUG:root:Programmed Dac experimental param gaussian_width with val 12d\n",
      "DEBUG:root:Programmed Dac experimental param adc_dac_lat with val 0\n",
      "DEBUG:root:Programmed Dac experimental param trigger_delay with val 0\n",
      "DEBUG:root:Programmed Dac experimental param trigger_width with val 12d\n"
     ]
    },
    {
     "name": "stdout",
     "output_type": "stream",
     "text": [
      "Super Class rf object is descriptor called for channel number <xrfdc.RFdc object at 0xffff9094eee0>\n",
      "n_s_4 in mode 0\n"
     ]
    },
    {
     "name": "stderr",
     "output_type": "stream",
     "text": [
      "DEBUG:root:Dac descriptor called for channel number 2\n",
      "DEBUG:root:Programmed Dac experimental param sleep_time with val 124f800\n",
      "DEBUG:root:Programmed Dac experimental param time_between_pulses with val 17\n",
      "DEBUG:root:Programmed Dac experimental param trigger_time with val 0\n",
      "DEBUG:root:Programmed Dac experimental param inner_loop_step with val 13\n",
      "DEBUG:root:Programmed Dac experimental param inner_loop_count with val 3c0\n",
      "DEBUG:root:Programmed Dac experimental param repetition_rate with val 780\n",
      "DEBUG:root:Programmed Dac experimental param outer_loop_count with val 1f4\n",
      "DEBUG:root:Programmed Dac experimental param amplitude_factor with val 7fff\n",
      "DEBUG:root:Programmed Dac experimental param n_s_4 with val 12d\n",
      "DEBUG:root:Programmed Dac experimental param gaussian_width with val 12d\n",
      "DEBUG:root:Programmed Dac experimental param adc_dac_lat with val 0\n",
      "DEBUG:root:Programmed Dac experimental param trigger_delay with val 0\n",
      "DEBUG:root:Programmed Dac experimental param trigger_width with val 12d\n"
     ]
    },
    {
     "name": "stdout",
     "output_type": "stream",
     "text": [
      "Super Class rf object is descriptor called for channel number <xrfdc.RFdc object at 0xffff9094eee0>\n",
      "n_s_4 in mode 0\n"
     ]
    },
    {
     "name": "stderr",
     "output_type": "stream",
     "text": [
      "DEBUG:root:Dac descriptor called for channel number 3\n",
      "DEBUG:root:Programmed Dac experimental param sleep_time with val 124f800\n",
      "DEBUG:root:Programmed Dac experimental param time_between_pulses with val 17\n",
      "DEBUG:root:Programmed Dac experimental param trigger_time with val 0\n",
      "DEBUG:root:Programmed Dac experimental param inner_loop_step with val 13\n",
      "DEBUG:root:Programmed Dac experimental param inner_loop_count with val 3c0\n",
      "DEBUG:root:Programmed Dac experimental param repetition_rate with val 780\n",
      "DEBUG:root:Programmed Dac experimental param outer_loop_count with val 1f4\n",
      "DEBUG:root:Programmed Dac experimental param amplitude_factor with val 7fff\n",
      "DEBUG:root:Programmed Dac experimental param n_s_4 with val 12d\n",
      "DEBUG:root:Programmed Dac experimental param gaussian_width with val 12d\n",
      "DEBUG:root:Programmed Dac experimental param adc_dac_lat with val 0\n",
      "DEBUG:root:Programmed Dac experimental param trigger_delay with val 0\n",
      "DEBUG:root:Programmed Dac experimental param trigger_width with val 12d\n"
     ]
    },
    {
     "name": "stdout",
     "output_type": "stream",
     "text": [
      "Super Class rf object is descriptor called for channel number <xrfdc.RFdc object at 0xffff9094eee0>\n",
      "n_s_4 in mode 0\n"
     ]
    },
    {
     "name": "stderr",
     "output_type": "stream",
     "text": [
      "DEBUG:root:Dac descriptor called for channel number 4\n",
      "DEBUG:root:Programmed Dac experimental param sleep_time with val 124f800\n",
      "DEBUG:root:Programmed Dac experimental param time_between_pulses with val 17\n",
      "DEBUG:root:Programmed Dac experimental param trigger_time with val 0\n",
      "DEBUG:root:Programmed Dac experimental param inner_loop_step with val 13\n",
      "DEBUG:root:Programmed Dac experimental param inner_loop_count with val 3c0\n",
      "DEBUG:root:Programmed Dac experimental param repetition_rate with val 780\n",
      "DEBUG:root:Programmed Dac experimental param outer_loop_count with val 1f4\n",
      "DEBUG:root:Programmed Dac experimental param amplitude_factor with val 7fff\n",
      "DEBUG:root:Programmed Dac experimental param n_s_4 with val 12d\n",
      "DEBUG:root:Programmed Dac experimental param gaussian_width with val 12d\n",
      "DEBUG:root:Programmed Dac experimental param adc_dac_lat with val 0\n",
      "DEBUG:root:Programmed Dac experimental param trigger_delay with val 0\n",
      "DEBUG:root:Programmed Dac experimental param trigger_width with val 12d\n"
     ]
    },
    {
     "name": "stdout",
     "output_type": "stream",
     "text": [
      "Super Class rf object is descriptor called for channel number <xrfdc.RFdc object at 0xffff9094eee0>\n",
      "n_s_4 in mode 0\n"
     ]
    },
    {
     "name": "stderr",
     "output_type": "stream",
     "text": [
      "DEBUG:root:Dac descriptor called for channel number 5\n",
      "DEBUG:root:Programmed Dac experimental param sleep_time with val 124f800\n",
      "DEBUG:root:Programmed Dac experimental param time_between_pulses with val 17\n",
      "DEBUG:root:Programmed Dac experimental param trigger_time with val 0\n",
      "DEBUG:root:Programmed Dac experimental param inner_loop_step with val 13\n",
      "DEBUG:root:Programmed Dac experimental param inner_loop_count with val 3c0\n",
      "DEBUG:root:Programmed Dac experimental param repetition_rate with val 780\n",
      "DEBUG:root:Programmed Dac experimental param outer_loop_count with val 1f4\n",
      "DEBUG:root:Programmed Dac experimental param amplitude_factor with val 7fff\n",
      "DEBUG:root:Programmed Dac experimental param n_s_4 with val 12d\n",
      "DEBUG:root:Programmed Dac experimental param gaussian_width with val 12d\n",
      "DEBUG:root:Programmed Dac experimental param adc_dac_lat with val 0\n",
      "DEBUG:root:Programmed Dac experimental param trigger_delay with val 0\n",
      "DEBUG:root:Programmed Dac experimental param trigger_width with val 12d\n"
     ]
    },
    {
     "name": "stdout",
     "output_type": "stream",
     "text": [
      "Super Class rf object is descriptor called for channel number <xrfdc.RFdc object at 0xffff9094eee0>\n",
      "n_s_4 in mode 0\n"
     ]
    },
    {
     "name": "stderr",
     "output_type": "stream",
     "text": [
      "DEBUG:root:Dac descriptor called for channel number 6\n",
      "DEBUG:root:Programmed Dac experimental param sleep_time with val 124f800\n",
      "DEBUG:root:Programmed Dac experimental param time_between_pulses with val 17\n",
      "DEBUG:root:Programmed Dac experimental param trigger_time with val 0\n",
      "DEBUG:root:Programmed Dac experimental param inner_loop_step with val 13\n",
      "DEBUG:root:Programmed Dac experimental param inner_loop_count with val 3c0\n",
      "DEBUG:root:Programmed Dac experimental param repetition_rate with val 780\n",
      "DEBUG:root:Programmed Dac experimental param outer_loop_count with val 1f4\n",
      "DEBUG:root:Programmed Dac experimental param amplitude_factor with val 7fff\n",
      "DEBUG:root:Programmed Dac experimental param n_s_4 with val 12d\n",
      "DEBUG:root:Programmed Dac experimental param gaussian_width with val 12d\n",
      "DEBUG:root:Programmed Dac experimental param adc_dac_lat with val 0\n",
      "DEBUG:root:Programmed Dac experimental param trigger_delay with val 0\n",
      "DEBUG:root:Programmed Dac experimental param trigger_width with val 12d\n"
     ]
    },
    {
     "name": "stdout",
     "output_type": "stream",
     "text": [
      "Super Class rf object is descriptor called for channel number <xrfdc.RFdc object at 0xffff9094eee0>\n",
      "n_s_4 in mode 0\n"
     ]
    },
    {
     "name": "stderr",
     "output_type": "stream",
     "text": [
      "DEBUG:root:Dac descriptor called for channel number 7\n",
      "DEBUG:root:RT-4\n",
      "DEBUG:root:IIR Param init in init fun completed\n"
     ]
    },
    {
     "name": "stdout",
     "output_type": "stream",
     "text": [
      "Super Class rf object is descriptor called for channel number <xrfdc.RFdc object at 0xffff9094eee0>\n"
     ]
    },
    {
     "name": "stderr",
     "output_type": "stream",
     "text": [
      "DEBUG:root:Readout init completed\n",
      "DEBUG:root:RT-4\n",
      "DEBUG:root:IIR Param init in init fun completed\n",
      "DEBUG:root:Readout init completed\n",
      "DEBUG:root:RT-4\n",
      "DEBUG:root:IIR Param init in init fun completed\n",
      "DEBUG:root:Readout init completed\n",
      "DEBUG:root:RT-4\n",
      "DEBUG:root:IIR Param init in init fun completed\n",
      "DEBUG:root:Readout init completed\n"
     ]
    },
    {
     "name": "stdout",
     "output_type": "stream",
     "text": [
      "#####MTS#####\n",
      "None\n",
      "#####MTS IS SUPPORTED#####\n",
      "DAC0 : Target_latency = 1392\n",
      "DAC1 : Target_latency = 1392\n",
      "#####MTS#####\n",
      "None\n",
      "#####MTS IS SUPPORTED#####\n",
      "ADC0 : Target_latency = 160\n",
      "ADC1 : Target_latency = 160\n",
      "ADC2 : Target_latency = 160\n",
      "#####MTS IS SUPPORTED#####\n",
      "DAC0 : Target_latency = 1408 , Offset = 2\n",
      "DAC1 : Target_latency = 1408 , Offset = 2\n",
      "#####MTS IS SUPPORTED#####\n",
      "DAC0 : Target_latency = 1408 , Offset = 2\n",
      "DAC1 : Target_latency = 1408 , Offset = 2\n",
      "#####MTS IS SUPPORTED#####\n",
      "ADC0 : Target_latency = 176 , Offset = 4\n",
      "ADC1 : Target_latency = 176 , Offset = 4\n",
      "ADC2 : Target_latency = 176 , Offset = 7\n",
      "Unable to complete MTS sucessfully\n",
      "Re-running the MTS\n",
      "#####MTS#####\n",
      "None\n",
      "#####MTS IS SUPPORTED#####\n",
      "DAC0 : Target_latency = 1392\n",
      "DAC1 : Target_latency = 1392\n",
      "#####MTS#####\n",
      "None\n",
      "#####MTS IS SUPPORTED#####\n",
      "ADC0 : Target_latency = 164\n",
      "ADC1 : Target_latency = 164\n",
      "ADC2 : Target_latency = 164\n",
      "#####MTS IS SUPPORTED#####\n",
      "DAC0 : Target_latency = 1408 , Offset = 2\n",
      "DAC1 : Target_latency = 1408 , Offset = 2\n",
      "#####MTS IS SUPPORTED#####\n",
      "DAC0 : Target_latency = 1408 , Offset = 2\n",
      "DAC1 : Target_latency = 1408 , Offset = 2\n",
      "#####MTS IS SUPPORTED#####\n",
      "ADC0 : Target_latency = 180 , Offset = 5\n",
      "ADC1 : Target_latency = 180 , Offset = 5\n",
      "ADC2 : Target_latency = 180 , Offset = 8\n",
      "#####MTS IS SUPPORTED#####\n",
      "ADC0 : Target_latency = 180 , Offset = 5\n",
      "ADC1 : Target_latency = 180 , Offset = 5\n",
      "ADC2 : Target_latency = 180 , Offset = 8\n",
      "#####MTS IS SUPPORTED#####\n",
      "ADC0 : Target_latency = 180 , Offset = 5\n",
      "ADC1 : Target_latency = 180 , Offset = 5\n",
      "ADC2 : Target_latency = 180 , Offset = 8\n",
      "#####MTS IS SUPPORTED#####\n",
      "ADC0 : Target_latency = 180 , Offset = 5\n",
      "ADC1 : Target_latency = 180 , Offset = 5\n",
      "ADC2 : Target_latency = 180 , Offset = 8\n"
     ]
    }
   ],
   "source": [
    "try:\n",
    "    del(rfdc_handle)\n",
    "    rfdc_handle = SQ_CARS.rfdcConfig(thisConfig, SQ_CARS.rfdc_config, SQ_CARS.hw_config)\n",
    "except:\n",
    "    rfdc_handle = SQ_CARS.rfdcConfig(thisConfig, SQ_CARS.rfdc_config, SQ_CARS.hw_config)\n",
    "\n"
   ]
  },
  {
   "cell_type": "code",
   "execution_count": 11,
   "id": "fc40ad34",
   "metadata": {
    "scrolled": true
   },
   "outputs": [
    {
     "name": "stderr",
     "output_type": "stream",
     "text": [
      "DEBUG:root:Programmed Dac experimental param dac_parameters4 with val b7fff\n",
      "DEBUG:root:Programmed Dac experimental param gaussian_width with val 0\n",
      "DEBUG:root:Programmed Dac experimental param dac_parameters4 with val b7fff\n",
      "DEBUG:root:Programmed Dac experimental param dac_parameters4 with val b7fff\n",
      "DEBUG:root:loading wave form for mode 3\n",
      "DEBUG:root:Programmed Dac experimental param dac_parameters4 with val b7fff\n",
      "DEBUG:root:Programmed Dac experimental param gaussian_width with val 0\n",
      "DEBUG:root:Programmed Dac experimental param dac_parameters4 with val b7fff\n",
      "DEBUG:root:Programmed Dac experimental param dac_parameters4 with val b7fff\n",
      "DEBUG:root:loading wave form for mode 3\n"
     ]
    },
    {
     "name": "stdout",
     "output_type": "stream",
     "text": [
      "n_s_4 in mode 3\n",
      "n_s_4 in mode 3\n",
      "n_s_4 in mode 3\n",
      "Q-addr 0\n",
      "n_s_4 in mode 3\n",
      "n_s_4 in mode 3\n",
      "n_s_4 in mode 3\n",
      "Q-addr 0\n"
     ]
    },
    {
     "name": "stderr",
     "output_type": "stream",
     "text": [
      "DEBUG:root:Programmed Dac experimental param dac_parameters4 with val b7fff\n",
      "DEBUG:root:Programmed Dac experimental param gaussian_width with val 0\n",
      "DEBUG:root:Programmed Dac experimental param dac_parameters4 with val b7fff\n",
      "DEBUG:root:Programmed Dac experimental param dac_parameters4 with val b7fff\n",
      "DEBUG:root:loading wave form for mode 3\n",
      "DEBUG:root:Programmed Dac experimental param dac_parameters4 with val b7fff\n",
      "DEBUG:root:Programmed Dac experimental param gaussian_width with val 0\n",
      "DEBUG:root:Programmed Dac experimental param dac_parameters4 with val b7fff\n",
      "DEBUG:root:Programmed Dac experimental param dac_parameters4 with val b7fff\n",
      "DEBUG:root:loading wave form for mode 3\n",
      "DEBUG:root:Programmed Dac experimental param rst_update with val 2000000\n",
      "DEBUG:root:Programmed Dac experimental param rst_update with val 3000000\n",
      "DEBUG:root:Programmed Dac experimental param rst_update with val 1000000\n",
      "DEBUG:root:Programmed Dac experimental param rst_update with val 1000000\n"
     ]
    },
    {
     "name": "stdout",
     "output_type": "stream",
     "text": [
      "n_s_4 in mode 3\n",
      "n_s_4 in mode 3\n",
      "n_s_4 in mode 3\n",
      "Q-addr 0\n",
      "n_s_4 in mode 3\n",
      "n_s_4 in mode 3\n",
      "n_s_4 in mode 3\n",
      "Q-addr 0\n"
     ]
    },
    {
     "name": "stderr",
     "output_type": "stream",
     "text": [
      "DEBUG:matplotlib.font_manager:findfont: Matching :family=sans-serif:style=normal:variant=normal:weight=normal:stretch=normal:size=10.0.\n",
      "DEBUG:matplotlib.font_manager:findfont: score(<Font 'DejaVu Sans Mono' (DejaVuSansMono.ttf) normal normal 400 normal>) = 10.05\n",
      "DEBUG:matplotlib.font_manager:findfont: score(<Font 'DejaVu Sans' (DejaVuSans-Oblique.ttf) oblique normal 400 normal>) = 1.05\n",
      "DEBUG:matplotlib.font_manager:findfont: score(<Font 'STIXSizeOneSym' (STIXSizOneSymBol.ttf) normal normal bold normal>) = 10.335\n",
      "DEBUG:matplotlib.font_manager:findfont: score(<Font 'cmtt10' (cmtt10.ttf) normal normal 400 normal>) = 10.05\n",
      "DEBUG:matplotlib.font_manager:findfont: score(<Font 'STIXNonUnicode' (STIXNonUniBolIta.ttf) italic normal bold normal>) = 11.335\n",
      "DEBUG:matplotlib.font_manager:findfont: score(<Font 'cmss10' (cmss10.ttf) normal normal 400 normal>) = 10.05\n",
      "DEBUG:matplotlib.font_manager:findfont: score(<Font 'cmex10' (cmex10.ttf) normal normal 400 normal>) = 10.05\n",
      "DEBUG:matplotlib.font_manager:findfont: score(<Font 'DejaVu Sans Display' (DejaVuSansDisplay.ttf) normal normal 400 normal>) = 10.05\n",
      "DEBUG:matplotlib.font_manager:findfont: score(<Font 'STIXSizeFiveSym' (STIXSizFiveSymReg.ttf) normal normal regular normal>) = 10.05\n",
      "DEBUG:matplotlib.font_manager:findfont: score(<Font 'STIXSizeThreeSym' (STIXSizThreeSymReg.ttf) normal normal regular normal>) = 10.05\n",
      "DEBUG:matplotlib.font_manager:findfont: score(<Font 'STIXSizeOneSym' (STIXSizOneSymReg.ttf) normal normal regular normal>) = 10.05\n",
      "DEBUG:matplotlib.font_manager:findfont: score(<Font 'DejaVu Sans' (DejaVuSans-Bold.ttf) normal normal bold normal>) = 0.33499999999999996\n",
      "DEBUG:matplotlib.font_manager:findfont: score(<Font 'DejaVu Serif' (DejaVuSerif-BoldItalic.ttf) italic normal bold normal>) = 11.335\n",
      "DEBUG:matplotlib.font_manager:findfont: score(<Font 'cmr10' (cmr10.ttf) normal normal 400 normal>) = 10.05\n",
      "DEBUG:matplotlib.font_manager:findfont: score(<Font 'DejaVu Serif' (DejaVuSerif-Italic.ttf) italic normal 400 normal>) = 11.05\n",
      "DEBUG:matplotlib.font_manager:findfont: score(<Font 'DejaVu Sans Mono' (DejaVuSansMono-Bold.ttf) normal normal bold normal>) = 10.335\n",
      "DEBUG:matplotlib.font_manager:findfont: score(<Font 'DejaVu Sans' (DejaVuSans.ttf) normal normal 400 normal>) = 0.05\n",
      "DEBUG:matplotlib.font_manager:findfont: score(<Font 'DejaVu Serif Display' (DejaVuSerifDisplay.ttf) normal normal 400 normal>) = 10.05\n",
      "DEBUG:matplotlib.font_manager:findfont: score(<Font 'DejaVu Serif' (DejaVuSerif.ttf) normal normal 400 normal>) = 10.05\n",
      "DEBUG:matplotlib.font_manager:findfont: score(<Font 'STIXGeneral' (STIXGeneralBolIta.ttf) italic normal bold normal>) = 11.335\n",
      "DEBUG:matplotlib.font_manager:findfont: score(<Font 'DejaVu Sans' (DejaVuSans-BoldOblique.ttf) oblique normal bold normal>) = 1.335\n",
      "DEBUG:matplotlib.font_manager:findfont: score(<Font 'STIXGeneral' (STIXGeneralItalic.ttf) italic normal 400 normal>) = 11.05\n",
      "DEBUG:matplotlib.font_manager:findfont: score(<Font 'STIXSizeTwoSym' (STIXSizTwoSymReg.ttf) normal normal regular normal>) = 10.05\n",
      "DEBUG:matplotlib.font_manager:findfont: score(<Font 'DejaVu Serif' (DejaVuSerif-Bold.ttf) normal normal bold normal>) = 10.335\n",
      "DEBUG:matplotlib.font_manager:findfont: score(<Font 'STIXGeneral' (STIXGeneralBol.ttf) normal normal bold normal>) = 10.335\n",
      "DEBUG:matplotlib.font_manager:findfont: score(<Font 'STIXSizeThreeSym' (STIXSizThreeSymBol.ttf) normal normal bold normal>) = 10.335\n",
      "DEBUG:matplotlib.font_manager:findfont: score(<Font 'STIXSizeFourSym' (STIXSizFourSymBol.ttf) normal normal bold normal>) = 10.335\n",
      "DEBUG:matplotlib.font_manager:findfont: score(<Font 'STIXNonUnicode' (STIXNonUniBol.ttf) normal normal bold normal>) = 10.335\n",
      "DEBUG:matplotlib.font_manager:findfont: score(<Font 'cmmi10' (cmmi10.ttf) normal normal 400 normal>) = 10.05\n",
      "DEBUG:matplotlib.font_manager:findfont: score(<Font 'STIXSizeTwoSym' (STIXSizTwoSymBol.ttf) normal normal bold normal>) = 10.335\n",
      "DEBUG:matplotlib.font_manager:findfont: score(<Font 'STIXGeneral' (STIXGeneral.ttf) normal normal regular normal>) = 10.05\n",
      "DEBUG:matplotlib.font_manager:findfont: score(<Font 'STIXNonUnicode' (STIXNonUni.ttf) normal normal regular normal>) = 10.05\n",
      "DEBUG:matplotlib.font_manager:findfont: score(<Font 'STIXNonUnicode' (STIXNonUniIta.ttf) italic normal 400 normal>) = 11.05\n",
      "DEBUG:matplotlib.font_manager:findfont: score(<Font 'cmb10' (cmb10.ttf) normal normal 400 normal>) = 10.05\n",
      "DEBUG:matplotlib.font_manager:findfont: score(<Font 'cmsy10' (cmsy10.ttf) normal normal 400 normal>) = 10.05\n",
      "DEBUG:matplotlib.font_manager:findfont: score(<Font 'DejaVu Sans Mono' (DejaVuSansMono-Oblique.ttf) oblique normal 400 normal>) = 11.05\n",
      "DEBUG:matplotlib.font_manager:findfont: score(<Font 'DejaVu Sans Mono' (DejaVuSansMono-BoldOblique.ttf) oblique normal bold normal>) = 11.335\n",
      "DEBUG:matplotlib.font_manager:findfont: score(<Font 'STIXSizeFourSym' (STIXSizFourSymReg.ttf) normal normal regular normal>) = 10.05\n",
      "DEBUG:matplotlib.font_manager:findfont: score(<Font 'Latin Modern Sans' (lmsans8-regular.otf) normal normal regular normal>) = 10.05\n",
      "DEBUG:matplotlib.font_manager:findfont: score(<Font 'TeX Gyre Adventor' (texgyreadventor-bolditalic.otf) italic normal bold normal>) = 11.335\n",
      "DEBUG:matplotlib.font_manager:findfont: score(<Font 'Nimbus Sans Narrow' (NimbusSansNarrow-Oblique.otf) oblique normal 400 condensed>) = 11.25\n",
      "DEBUG:matplotlib.font_manager:findfont: score(<Font 'Latin Modern Mono Slanted' (lmmonoslant10-regular.otf) normal normal regular normal>) = 10.05\n",
      "DEBUG:matplotlib.font_manager:findfont: score(<Font 'DejaVu Serif' (DejaVuSerifCondensed-Italic.ttf) italic normal 400 condensed>) = 11.25\n",
      "DEBUG:matplotlib.font_manager:findfont: score(<Font 'Bitstream Vera Sans Mono' (VeraMoBI.ttf) oblique normal bold normal>) = 11.335\n",
      "DEBUG:matplotlib.font_manager:findfont: score(<Font 'Bitstream Vera Sans' (VeraBd.ttf) normal normal bold normal>) = 1.2440909090909091\n",
      "DEBUG:matplotlib.font_manager:findfont: score(<Font 'Latin Modern Sans Quotation' (lmsansquot8-boldoblique.otf) oblique normal bold normal>) = 11.335\n",
      "DEBUG:matplotlib.font_manager:findfont: score(<Font 'Bitstream Vera Sans Mono' (VeraMono.ttf) normal normal 400 normal>) = 10.05\n",
      "DEBUG:matplotlib.font_manager:findfont: score(<Font 'Latin Modern Roman Slanted' (lmromanslant17-regular.otf) normal normal regular normal>) = 10.05\n",
      "DEBUG:matplotlib.font_manager:findfont: score(<Font 'Latin Modern Roman' (lmroman7-italic.otf) italic normal roman normal>) = 11.145\n",
      "DEBUG:matplotlib.font_manager:findfont: score(<Font 'URW Gothic' (URWGothic-Demi.otf) normal normal demi normal>) = 10.24\n",
      "DEBUG:matplotlib.font_manager:findfont: score(<Font 'Liberation Mono' (LiberationMono-Italic.ttf) italic normal 400 normal>) = 11.05\n",
      "DEBUG:matplotlib.font_manager:findfont: score(<Font 'Nimbus Mono PS' (NimbusMonoPS-Italic.otf) italic normal 400 normal>) = 11.05\n",
      "DEBUG:matplotlib.font_manager:findfont: score(<Font 'URW Gothic' (URWGothic-DemiOblique.otf) oblique normal demi normal>) = 11.24\n",
      "DEBUG:matplotlib.font_manager:findfont: score(<Font 'Latin Modern Sans' (lmsans17-regular.otf) normal normal regular normal>) = 10.05\n",
      "DEBUG:matplotlib.font_manager:findfont: score(<Font 'Latin Modern Sans' (lmsans10-regular.otf) normal normal regular normal>) = 10.05\n",
      "DEBUG:matplotlib.font_manager:findfont: score(<Font 'Bitstream Vera Sans Mono' (VeraMoBd.ttf) normal normal bold normal>) = 10.335\n",
      "DEBUG:matplotlib.font_manager:findfont: score(<Font 'Latin Modern Roman' (lmroman12-regular.otf) normal normal regular normal>) = 10.05\n",
      "DEBUG:matplotlib.font_manager:findfont: score(<Font 'Lato' (Lato-Medium.ttf) normal normal medium normal>) = 10.145\n",
      "DEBUG:matplotlib.font_manager:findfont: score(<Font 'TeX Gyre Heros' (texgyreheros-bold.otf) normal normal bold normal>) = 10.335\n",
      "DEBUG:matplotlib.font_manager:findfont: score(<Font 'TeX Gyre Pagella' (texgyrepagella-italic.otf) italic normal 400 normal>) = 11.05\n",
      "DEBUG:matplotlib.font_manager:findfont: score(<Font 'Liberation Sans Narrow' (LiberationSansNarrow-Regular.ttf) normal normal 400 condensed>) = 10.25\n",
      "DEBUG:matplotlib.font_manager:findfont: score(<Font 'TeX Gyre Bonum Math' (texgyrebonum-math.otf) normal normal regular normal>) = 10.05\n",
      "DEBUG:matplotlib.font_manager:findfont: score(<Font 'Latin Modern Mono Prop' (lmmonoprop10-oblique.otf) oblique normal 400 normal>) = 11.05\n",
      "DEBUG:matplotlib.font_manager:findfont: score(<Font 'C059' (C059-Bold.otf) normal normal bold normal>) = 10.335\n",
      "DEBUG:matplotlib.font_manager:findfont: score(<Font 'Nimbus Sans Narrow' (NimbusSansNarrow-Bold.otf) normal normal bold condensed>) = 10.535\n",
      "DEBUG:matplotlib.font_manager:findfont: score(<Font 'Latin Modern Mono Caps' (lmmonocaps10-oblique.otf) oblique normal 400 normal>) = 11.05\n",
      "DEBUG:matplotlib.font_manager:findfont: score(<Font 'Latin Modern Sans' (lmsans12-oblique.otf) oblique normal 400 normal>) = 11.05\n",
      "DEBUG:matplotlib.font_manager:findfont: score(<Font 'Lato' (Lato-Hairline.ttf) normal normal 400 normal>) = 10.05\n",
      "DEBUG:matplotlib.font_manager:findfont: score(<Font 'Lato' (Lato-Italic.ttf) italic normal 400 normal>) = 11.05\n",
      "DEBUG:matplotlib.font_manager:findfont: score(<Font 'Latin Modern Mono' (lmmono10-regular.otf) normal normal regular normal>) = 10.05\n",
      "DEBUG:matplotlib.font_manager:findfont: score(<Font 'TeX Gyre Heros Cn' (texgyreheroscn-regular.otf) normal normal 400 normal>) = 10.05\n",
      "DEBUG:matplotlib.font_manager:findfont: score(<Font 'Latin Modern Sans Demi Cond' (lmsansdemicond10-oblique.otf) oblique normal demi condensed>) = 11.44\n",
      "DEBUG:matplotlib.font_manager:findfont: score(<Font 'Nimbus Roman' (NimbusRoman-BoldItalic.otf) italic normal roman normal>) = 11.145\n",
      "DEBUG:matplotlib.font_manager:findfont: score(<Font 'Nimbus Sans Narrow' (NimbusSansNarrow-BoldOblique.otf) oblique normal bold condensed>) = 11.535\n",
      "DEBUG:matplotlib.font_manager:findfont: score(<Font 'TeX Gyre Schola' (texgyreschola-bolditalic.otf) italic normal bold normal>) = 11.335\n",
      "DEBUG:matplotlib.font_manager:findfont: score(<Font 'TeX Gyre Schola' (texgyreschola-italic.otf) italic normal 400 normal>) = 11.05\n",
      "DEBUG:matplotlib.font_manager:findfont: score(<Font 'Liberation Sans Narrow' (LiberationSansNarrow-BoldItalic.ttf) italic normal bold condensed>) = 11.535\n",
      "DEBUG:matplotlib.font_manager:findfont: score(<Font 'Latin Modern Mono' (lmmono9-regular.otf) normal normal regular normal>) = 10.05\n",
      "DEBUG:matplotlib.font_manager:findfont: score(<Font 'Latin Modern Sans Demi Cond' (lmsansdemicond10-regular.otf) normal normal regular condensed>) = 10.25\n",
      "DEBUG:matplotlib.font_manager:findfont: score(<Font 'msbm10' (msbm10.ttf) normal normal 400 normal>) = 10.05\n",
      "DEBUG:matplotlib.font_manager:findfont: score(<Font 'Latin Modern Sans' (lmsans12-regular.otf) normal normal regular normal>) = 10.05\n",
      "DEBUG:matplotlib.font_manager:findfont: score(<Font 'Liberation Mono' (LiberationMono-Regular.ttf) normal normal 400 normal>) = 10.05\n",
      "DEBUG:matplotlib.font_manager:findfont: score(<Font 'TeX Gyre Termes' (texgyretermes-bolditalic.otf) italic normal bold normal>) = 11.335\n",
      "DEBUG:matplotlib.font_manager:findfont: score(<Font 'Lato' (Lato-BlackItalic.ttf) italic normal black normal>) = 11.525\n",
      "DEBUG:matplotlib.font_manager:findfont: score(<Font 'URW Bookman' (URWBookman-Demi.otf) normal normal book normal>) = 10.05\n",
      "DEBUG:matplotlib.font_manager:findfont: score(<Font 'Latin Modern Roman Caps' (lmromancaps10-oblique.otf) oblique normal roman normal>) = 11.145\n",
      "DEBUG:matplotlib.font_manager:findfont: score(<Font 'Lato' (Lato-Light.ttf) normal normal light normal>) = 10.24\n",
      "DEBUG:matplotlib.font_manager:findfont: score(<Font 'Liberation Serif' (LiberationSerif-Italic.ttf) italic normal 400 normal>) = 11.05\n",
      "DEBUG:matplotlib.font_manager:findfont: score(<Font 'Nimbus Roman' (NimbusRoman-Regular.otf) normal normal roman normal>) = 10.145\n",
      "DEBUG:matplotlib.font_manager:findfont: score(<Font 'Liberation Serif' (LiberationSerif-BoldItalic.ttf) italic normal bold normal>) = 11.335\n",
      "DEBUG:matplotlib.font_manager:findfont: score(<Font 'C059' (C059-BdIta.otf) italic normal bold normal>) = 11.335\n",
      "DEBUG:matplotlib.font_manager:findfont: score(<Font 'P052' (P052-Roman.otf) normal normal roman normal>) = 10.145\n",
      "DEBUG:matplotlib.font_manager:findfont: score(<Font 'DejaVu Sans' (DejaVuSansCondensed-Bold.ttf) normal normal bold condensed>) = 0.5349999999999999\n",
      "DEBUG:matplotlib.font_manager:findfont: score(<Font 'Latin Modern Roman' (lmroman9-italic.otf) italic normal roman normal>) = 11.145\n",
      "DEBUG:matplotlib.font_manager:findfont: score(<Font 'DejaVu Serif' (DejaVuSerifCondensed-Bold.ttf) normal normal bold condensed>) = 10.535\n",
      "DEBUG:matplotlib.font_manager:findfont: score(<Font 'Liberation Mono' (LiberationMono-BoldItalic.ttf) italic normal bold normal>) = 11.335\n",
      "DEBUG:matplotlib.font_manager:findfont: score(<Font 'Latin Modern Roman' (lmroman8-bold.otf) normal normal roman normal>) = 10.145\n",
      "DEBUG:matplotlib.font_manager:findfont: score(<Font 'Lato' (Lato-Bold.ttf) normal normal bold normal>) = 10.335\n",
      "DEBUG:matplotlib.font_manager:findfont: score(<Font 'Latin Modern Roman' (lmroman10-italic.otf) italic normal roman normal>) = 11.145\n",
      "DEBUG:matplotlib.font_manager:findfont: score(<Font 'Latin Modern Roman' (lmroman6-bold.otf) normal normal roman normal>) = 10.145\n",
      "DEBUG:matplotlib.font_manager:findfont: score(<Font 'Nimbus Roman' (NimbusRoman-Italic.otf) italic normal roman normal>) = 11.145\n",
      "DEBUG:matplotlib.font_manager:findfont: score(<Font 'TeX Gyre Adventor' (texgyreadventor-italic.otf) italic normal 400 normal>) = 11.05\n",
      "DEBUG:matplotlib.font_manager:findfont: score(<Font 'Latin Modern Roman Demi' (lmromandemi10-oblique.otf) oblique normal roman normal>) = 11.145\n",
      "DEBUG:matplotlib.font_manager:findfont: score(<Font 'Latin Modern Roman' (lmroman10-bold.otf) normal normal roman normal>) = 10.145\n",
      "DEBUG:matplotlib.font_manager:findfont: score(<Font 'Nimbus Mono PS' (NimbusMonoPS-Regular.otf) normal normal 400 normal>) = 10.05\n",
      "DEBUG:matplotlib.font_manager:findfont: score(<Font 'Lato' (Lato-SemiboldItalic.ttf) italic normal semibold normal>) = 11.24\n",
      "DEBUG:matplotlib.font_manager:findfont: score(<Font 'Latin Modern Mono Prop Light' (lmmonoproplt10-bold.otf) normal normal light normal>) = 10.24\n",
      "DEBUG:matplotlib.font_manager:findfont: score(<Font 'Latin Modern Roman Slanted' (lmromanslant9-regular.otf) normal normal regular normal>) = 10.05\n",
      "DEBUG:matplotlib.font_manager:findfont: score(<Font 'Lato' (Lato-BoldItalic.ttf) italic normal bold normal>) = 11.335\n",
      "DEBUG:matplotlib.font_manager:findfont: score(<Font 'Bitstream Vera Serif' (VeraSe.ttf) normal normal 400 normal>) = 10.05\n",
      "DEBUG:matplotlib.font_manager:findfont: score(<Font 'TeX Gyre Cursor' (texgyrecursor-bolditalic.otf) italic normal bold normal>) = 11.335\n",
      "DEBUG:matplotlib.font_manager:findfont: score(<Font 'Bitstream Vera Sans' (VeraIt.ttf) oblique normal 400 normal>) = 1.9590909090909092\n",
      "DEBUG:matplotlib.font_manager:findfont: score(<Font 'Latin Modern Roman Dunhill' (lmromandunh10-regular.otf) normal normal regular normal>) = 10.05\n",
      "DEBUG:matplotlib.font_manager:findfont: score(<Font 'TeX Gyre Pagella' (texgyrepagella-bold.otf) normal normal bold normal>) = 10.335\n",
      "DEBUG:matplotlib.font_manager:findfont: score(<Font 'Latin Modern Mono Light' (lmmonolt10-boldoblique.otf) oblique normal light normal>) = 11.24\n",
      "DEBUG:matplotlib.font_manager:findfont: score(<Font 'Latin Modern Roman' (lmroman12-bold.otf) normal normal roman normal>) = 10.145\n",
      "DEBUG:matplotlib.font_manager:findfont: score(<Font 'Lato' (Lato-LightItalic.ttf) italic normal light normal>) = 11.24\n",
      "DEBUG:matplotlib.font_manager:findfont: score(<Font 'Latin Modern Roman Caps' (lmromancaps10-regular.otf) normal normal regular normal>) = 10.05\n",
      "DEBUG:matplotlib.font_manager:findfont: score(<Font 'TeX Gyre Schola Math' (texgyreschola-math.otf) normal normal regular normal>) = 10.05\n",
      "DEBUG:matplotlib.font_manager:findfont: score(<Font 'P052' (P052-Italic.otf) italic normal 400 normal>) = 11.05\n",
      "DEBUG:matplotlib.font_manager:findfont: score(<Font 'Liberation Serif' (LiberationSerif-Bold.ttf) normal normal bold normal>) = 10.335\n",
      "DEBUG:matplotlib.font_manager:findfont: score(<Font 'DejaVu Sans' (DejaVuSans-ExtraLight.ttf) normal normal light normal>) = 0.24\n",
      "DEBUG:matplotlib.font_manager:findfont: score(<Font 'Nimbus Sans Narrow' (NimbusSansNarrow-Regular.otf) normal normal 400 condensed>) = 10.25\n",
      "DEBUG:matplotlib.font_manager:findfont: score(<Font 'TeX Gyre Termes' (texgyretermes-regular.otf) normal normal 400 normal>) = 10.05\n",
      "DEBUG:matplotlib.font_manager:findfont: score(<Font 'Latin Modern Sans' (lmsans10-boldoblique.otf) oblique normal bold normal>) = 11.335\n",
      "DEBUG:matplotlib.font_manager:findfont: score(<Font 'esint10' (esint10.ttf) normal normal 400 normal>) = 10.05\n",
      "DEBUG:matplotlib.font_manager:findfont: score(<Font 'Latin Modern Sans Quotation' (lmsansquot8-regular.otf) normal normal regular normal>) = 10.05\n",
      "DEBUG:matplotlib.font_manager:findfont: score(<Font 'TeX Gyre Cursor' (texgyrecursor-italic.otf) italic normal 400 normal>) = 11.05\n",
      "DEBUG:matplotlib.font_manager:findfont: score(<Font 'Latin Modern Sans' (lmsans9-regular.otf) normal normal regular normal>) = 10.05\n",
      "DEBUG:matplotlib.font_manager:findfont: score(<Font 'DejaVu Serif' (DejaVuSerifCondensed.ttf) normal normal 400 condensed>) = 10.25\n",
      "DEBUG:matplotlib.font_manager:findfont: score(<Font 'URW Bookman' (URWBookman-LightItalic.otf) italic normal light normal>) = 11.24\n",
      "DEBUG:matplotlib.font_manager:findfont: score(<Font 'Lato' (Lato-Regular.ttf) normal normal regular normal>) = 10.05\n",
      "DEBUG:matplotlib.font_manager:findfont: score(<Font 'Latin Modern Roman' (lmroman10-bolditalic.otf) italic normal roman normal>) = 11.145\n",
      "DEBUG:matplotlib.font_manager:findfont: score(<Font 'TeX Gyre Bonum' (texgyrebonum-bold.otf) normal normal bold normal>) = 10.335\n",
      "DEBUG:matplotlib.font_manager:findfont: score(<Font 'Latin Modern Mono' (lmmono12-regular.otf) normal normal regular normal>) = 10.05\n",
      "DEBUG:matplotlib.font_manager:findfont: score(<Font 'TeX Gyre Heros' (texgyreheros-bolditalic.otf) italic normal bold normal>) = 11.335\n",
      "DEBUG:matplotlib.font_manager:findfont: score(<Font 'TeX Gyre Adventor' (texgyreadventor-regular.otf) normal normal regular normal>) = 10.05\n",
      "DEBUG:matplotlib.font_manager:findfont: score(<Font 'C059' (C059-Roman.otf) normal normal roman normal>) = 10.145\n",
      "DEBUG:matplotlib.font_manager:findfont: score(<Font 'Latin Modern Roman' (lmroman7-regular.otf) normal normal regular normal>) = 10.05\n",
      "DEBUG:matplotlib.font_manager:findfont: score(<Font 'Standard Symbols PS' (StandardSymbolsPS.otf) normal normal 400 normal>) = 10.05\n",
      "DEBUG:matplotlib.font_manager:findfont: score(<Font 'Nimbus Sans' (NimbusSans-Italic.otf) italic normal 400 normal>) = 11.05\n",
      "DEBUG:matplotlib.font_manager:findfont: score(<Font 'Nimbus Mono PS' (NimbusMonoPS-BoldItalic.otf) italic normal bold normal>) = 11.335\n",
      "DEBUG:matplotlib.font_manager:findfont: score(<Font 'TeX Gyre Termes' (texgyretermes-italic.otf) italic normal 400 normal>) = 11.05\n",
      "DEBUG:matplotlib.font_manager:findfont: score(<Font 'TeX Gyre Bonum' (texgyrebonum-bolditalic.otf) italic normal bold normal>) = 11.335\n",
      "DEBUG:matplotlib.font_manager:findfont: score(<Font 'TeX Gyre Heros Cn' (texgyreheroscn-bolditalic.otf) italic normal bold normal>) = 11.335\n",
      "DEBUG:matplotlib.font_manager:findfont: score(<Font 'Bitstream Vera Sans' (VeraBI.ttf) oblique normal bold normal>) = 2.244090909090909\n",
      "DEBUG:matplotlib.font_manager:findfont: score(<Font 'Latin Modern Sans' (lmsans10-bold.otf) normal normal bold normal>) = 10.335\n",
      "DEBUG:matplotlib.font_manager:findfont: score(<Font 'DejaVu Sans' (DejaVuSansCondensed.ttf) normal normal 400 condensed>) = 0.25\n",
      "DEBUG:matplotlib.font_manager:findfont: score(<Font 'Latin Modern Mono' (lmmono8-regular.otf) normal normal regular normal>) = 10.05\n",
      "DEBUG:matplotlib.font_manager:findfont: score(<Font 'Lato' (Lato-ThinItalic.ttf) italic normal 400 normal>) = 11.05\n",
      "DEBUG:matplotlib.font_manager:findfont: score(<Font 'Latin Modern Mono Prop Light' (lmmonoproplt10-regular.otf) normal normal light normal>) = 10.24\n",
      "DEBUG:matplotlib.font_manager:findfont: score(<Font 'D050000L' (D050000L.otf) normal normal 400 normal>) = 10.05\n",
      "DEBUG:matplotlib.font_manager:findfont: score(<Font 'DejaVu Sans' (DejaVuSansCondensed-BoldOblique.ttf) oblique normal bold condensed>) = 1.535\n",
      "DEBUG:matplotlib.font_manager:findfont: score(<Font 'Bitstream Vera Sans' (Vera.ttf) normal normal 400 normal>) = 0.9590909090909092\n",
      "DEBUG:matplotlib.font_manager:findfont: score(<Font 'DejaVu Serif' (DejaVuSerifCondensed-BoldItalic.ttf) italic normal bold condensed>) = 11.535\n",
      "DEBUG:matplotlib.font_manager:findfont: score(<Font 'Latin Modern Roman Demi' (lmromandemi10-regular.otf) normal normal regular normal>) = 10.05\n",
      "DEBUG:matplotlib.font_manager:findfont: score(<Font 'Latin Modern Roman' (lmroman5-regular.otf) normal normal regular normal>) = 10.05\n",
      "DEBUG:matplotlib.font_manager:findfont: score(<Font 'TeX Gyre Schola' (texgyreschola-regular.otf) normal normal 400 normal>) = 10.05\n",
      "DEBUG:matplotlib.font_manager:findfont: score(<Font 'TeX Gyre Cursor' (texgyrecursor-regular.otf) normal normal 400 normal>) = 10.05\n",
      "DEBUG:matplotlib.font_manager:findfont: score(<Font 'wasy10' (wasy10.ttf) normal normal 400 normal>) = 10.05\n",
      "DEBUG:matplotlib.font_manager:findfont: score(<Font 'Latin Modern Mono Light Cond' (lmmonoltcond10-oblique.otf) oblique normal light condensed>) = 11.44\n",
      "DEBUG:matplotlib.font_manager:findfont: score(<Font 'TeX Gyre Pagella' (texgyrepagella-regular.otf) normal normal regular normal>) = 10.05\n",
      "DEBUG:matplotlib.font_manager:findfont: score(<Font 'Latin Modern Mono Prop Light' (lmmonoproplt10-boldoblique.otf) oblique normal light normal>) = 11.24\n",
      "DEBUG:matplotlib.font_manager:findfont: score(<Font 'Bitstream Vera Sans Mono' (VeraMoIt.ttf) oblique normal 400 normal>) = 11.05\n",
      "DEBUG:matplotlib.font_manager:findfont: score(<Font 'Liberation Sans' (LiberationSans-Bold.ttf) normal normal bold normal>) = 10.335\n",
      "DEBUG:matplotlib.font_manager:findfont: score(<Font 'URW Bookman' (URWBookman-Light.otf) normal normal light normal>) = 10.24\n",
      "DEBUG:matplotlib.font_manager:findfont: score(<Font 'Latin Modern Roman' (lmroman12-italic.otf) italic normal roman normal>) = 11.145\n",
      "DEBUG:matplotlib.font_manager:findfont: score(<Font 'TeX Gyre Chorus' (texgyrechorus-mediumitalic.otf) normal normal 400 normal>) = 10.05\n",
      "DEBUG:matplotlib.font_manager:findfont: score(<Font 'Noto Mono' (NotoMono-Regular.ttf) normal normal 400 normal>) = 10.05\n",
      "DEBUG:matplotlib.font_manager:findfont: score(<Font 'Latin Modern Roman Dunhill' (lmromandunh10-oblique.otf) oblique normal roman normal>) = 11.145\n",
      "DEBUG:matplotlib.font_manager:findfont: score(<Font 'P052' (P052-BoldItalic.otf) italic normal bold normal>) = 11.335\n",
      "DEBUG:matplotlib.font_manager:findfont: score(<Font 'TeX Gyre Termes Math' (texgyretermes-math.otf) normal normal regular normal>) = 10.05\n",
      "DEBUG:matplotlib.font_manager:findfont: score(<Font 'Latin Modern Mono Prop Light' (lmmonoproplt10-oblique.otf) oblique normal light normal>) = 11.24\n",
      "DEBUG:matplotlib.font_manager:findfont: score(<Font 'TeX Gyre Heros' (texgyreheros-regular.otf) normal normal 400 normal>) = 10.05\n",
      "DEBUG:matplotlib.font_manager:findfont: score(<Font 'Latin Modern Roman' (lmroman8-italic.otf) italic normal roman normal>) = 11.145\n",
      "DEBUG:matplotlib.font_manager:findfont: score(<Font 'P052' (P052-Bold.otf) normal normal bold normal>) = 10.335\n",
      "DEBUG:matplotlib.font_manager:findfont: score(<Font 'Latin Modern Sans Quotation' (lmsansquot8-bold.otf) normal normal bold normal>) = 10.335\n",
      "DEBUG:matplotlib.font_manager:findfont: score(<Font 'Nimbus Sans' (NimbusSans-BoldItalic.otf) italic normal bold normal>) = 11.335\n",
      "DEBUG:matplotlib.font_manager:findfont: score(<Font 'Latin Modern Roman' (lmroman8-regular.otf) normal normal regular normal>) = 10.05\n",
      "DEBUG:matplotlib.font_manager:findfont: score(<Font 'Latin Modern Roman' (lmroman9-regular.otf) normal normal regular normal>) = 10.05\n",
      "DEBUG:matplotlib.font_manager:findfont: score(<Font 'eufm10' (eufm10.ttf) normal normal 400 normal>) = 10.05\n",
      "DEBUG:matplotlib.font_manager:findfont: score(<Font 'TeX Gyre Cursor' (texgyrecursor-bold.otf) normal normal bold normal>) = 10.335\n",
      "DEBUG:matplotlib.font_manager:findfont: score(<Font 'Latin Modern Roman Slanted' (lmromanslant10-regular.otf) normal normal regular normal>) = 10.05\n",
      "DEBUG:matplotlib.font_manager:findfont: score(<Font 'Latin Modern Roman' (lmroman5-bold.otf) normal normal roman normal>) = 10.145\n",
      "DEBUG:matplotlib.font_manager:findfont: score(<Font 'Latin Modern Mono Caps' (lmmonocaps10-regular.otf) normal normal regular normal>) = 10.05\n",
      "DEBUG:matplotlib.font_manager:findfont: score(<Font 'Liberation Sans Narrow' (LiberationSansNarrow-Italic.ttf) italic normal 400 condensed>) = 11.25\n",
      "DEBUG:matplotlib.font_manager:findfont: score(<Font 'Liberation Sans' (LiberationSans-BoldItalic.ttf) italic normal bold normal>) = 11.335\n",
      "DEBUG:matplotlib.font_manager:findfont: score(<Font 'URW Gothic' (URWGothic-Book.otf) normal normal book normal>) = 10.05\n",
      "DEBUG:matplotlib.font_manager:findfont: score(<Font 'TeX Gyre Pagella Math' (texgyrepagella-math.otf) normal normal regular normal>) = 10.05\n",
      "DEBUG:matplotlib.font_manager:findfont: score(<Font 'Lato' (Lato-MediumItalic.ttf) italic normal medium normal>) = 11.145\n",
      "DEBUG:matplotlib.font_manager:findfont: score(<Font 'msam10' (msam10.ttf) normal normal 400 normal>) = 10.05\n",
      "DEBUG:matplotlib.font_manager:findfont: score(<Font 'TeX Gyre Bonum' (texgyrebonum-italic.otf) italic normal 400 normal>) = 11.05\n",
      "DEBUG:matplotlib.font_manager:findfont: score(<Font 'Latin Modern Roman' (lmroman17-regular.otf) normal normal regular normal>) = 10.05\n",
      "DEBUG:matplotlib.font_manager:findfont: score(<Font 'Lato' (Lato-HairlineItalic.ttf) italic normal 400 normal>) = 11.05\n",
      "DEBUG:matplotlib.font_manager:findfont: score(<Font 'C059' (C059-Italic.otf) italic normal 400 normal>) = 11.05\n",
      "DEBUG:matplotlib.font_manager:findfont: score(<Font 'Latin Modern Sans' (lmsans17-oblique.otf) oblique normal 400 normal>) = 11.05\n",
      "DEBUG:matplotlib.font_manager:findfont: score(<Font 'Bitstream Vera Serif' (VeraSeBd.ttf) normal normal bold normal>) = 10.335\n",
      "DEBUG:matplotlib.font_manager:findfont: score(<Font 'Lato' (Lato-Heavy.ttf) normal normal heavy normal>) = 10.43\n",
      "DEBUG:matplotlib.font_manager:findfont: score(<Font 'Latin Modern Mono' (lmmono10-italic.otf) italic normal 400 normal>) = 11.05\n",
      "DEBUG:matplotlib.font_manager:findfont: score(<Font 'Latin Modern Roman Slanted' (lmromanslant12-regular.otf) normal normal regular normal>) = 10.05\n",
      "DEBUG:matplotlib.font_manager:findfont: score(<Font 'Liberation Sans Narrow' (LiberationSansNarrow-Bold.ttf) normal normal bold condensed>) = 10.535\n",
      "DEBUG:matplotlib.font_manager:findfont: score(<Font 'TeX Gyre Heros Cn' (texgyreheroscn-bold.otf) normal normal bold normal>) = 10.335\n",
      "DEBUG:matplotlib.font_manager:findfont: score(<Font 'rsfs10' (rsfs10.ttf) italic normal 400 normal>) = 11.05\n",
      "DEBUG:matplotlib.font_manager:findfont: score(<Font 'Nimbus Mono PS' (NimbusMonoPS-Bold.otf) normal normal bold normal>) = 10.335\n",
      "DEBUG:matplotlib.font_manager:findfont: score(<Font 'URW Bookman' (URWBookman-DemiItalic.otf) italic normal book normal>) = 11.05\n",
      "DEBUG:matplotlib.font_manager:findfont: score(<Font 'Latin Modern Roman' (lmroman9-bold.otf) normal normal roman normal>) = 10.145\n",
      "DEBUG:matplotlib.font_manager:findfont: score(<Font 'stmary10' (stmary10.ttf) normal normal 400 normal>) = 10.05\n",
      "DEBUG:matplotlib.font_manager:findfont: score(<Font 'Latin Modern Sans Quotation' (lmsansquot8-oblique.otf) oblique normal 700 normal>) = 11.335\n",
      "DEBUG:matplotlib.font_manager:findfont: score(<Font 'Latin Modern Math' (latinmodern-math.otf) normal normal regular normal>) = 10.05\n",
      "DEBUG:matplotlib.font_manager:findfont: score(<Font 'TeX Gyre Bonum' (texgyrebonum-regular.otf) normal normal 400 normal>) = 10.05\n",
      "DEBUG:matplotlib.font_manager:findfont: score(<Font 'TeX Gyre Pagella' (texgyrepagella-bolditalic.otf) italic normal bold normal>) = 11.335\n",
      "DEBUG:matplotlib.font_manager:findfont: score(<Font 'Latin Modern Roman' (lmroman7-bold.otf) normal normal roman normal>) = 10.145\n",
      "DEBUG:matplotlib.font_manager:findfont: score(<Font 'TeX Gyre Heros Cn' (texgyreheroscn-italic.otf) italic normal 400 normal>) = 11.05\n",
      "DEBUG:matplotlib.font_manager:findfont: score(<Font 'Latin Modern Mono Light Cond' (lmmonoltcond10-regular.otf) normal normal light condensed>) = 10.44\n",
      "DEBUG:matplotlib.font_manager:findfont: score(<Font 'Latin Modern Roman Slanted' (lmromanslant10-bold.otf) normal normal roman normal>) = 10.145\n",
      "DEBUG:matplotlib.font_manager:findfont: score(<Font 'Latin Modern Roman' (lmroman6-regular.otf) normal normal regular normal>) = 10.05\n",
      "DEBUG:matplotlib.font_manager:findfont: score(<Font 'Lato' (Lato-Thin.ttf) normal normal 400 normal>) = 10.05\n",
      "DEBUG:matplotlib.font_manager:findfont: score(<Font 'Latin Modern Mono Light' (lmmonolt10-regular.otf) normal normal light normal>) = 10.24\n",
      "DEBUG:matplotlib.font_manager:findfont: score(<Font 'DejaVu Math TeX Gyre' (DejaVuMathTeXGyre.ttf) normal normal regular normal>) = 10.05\n",
      "DEBUG:matplotlib.font_manager:findfont: score(<Font 'Liberation Sans' (LiberationSans-Regular.ttf) normal normal 400 normal>) = 10.05\n",
      "DEBUG:matplotlib.font_manager:findfont: score(<Font 'TeX Gyre DejaVu Math' (texgyredejavu-math.otf) normal normal regular normal>) = 10.05\n",
      "DEBUG:matplotlib.font_manager:findfont: score(<Font 'Latin Modern Roman' (lmroman10-regular.otf) normal normal regular normal>) = 10.05\n",
      "DEBUG:matplotlib.font_manager:findfont: score(<Font 'TeX Gyre Adventor' (texgyreadventor-bold.otf) normal normal bold normal>) = 10.335\n",
      "DEBUG:matplotlib.font_manager:findfont: score(<Font 'TeX Gyre Heros' (texgyreheros-italic.otf) italic normal 400 normal>) = 11.05\n",
      "DEBUG:matplotlib.font_manager:findfont: score(<Font 'TeX Gyre Termes' (texgyretermes-bold.otf) normal normal bold normal>) = 10.335\n",
      "DEBUG:matplotlib.font_manager:findfont: score(<Font 'Latin Modern Mono Prop' (lmmonoprop10-regular.otf) normal normal regular normal>) = 10.05\n",
      "DEBUG:matplotlib.font_manager:findfont: score(<Font 'Droid Sans Fallback' (DroidSansFallbackFull.ttf) normal normal 400 normal>) = 10.05\n",
      "DEBUG:matplotlib.font_manager:findfont: score(<Font 'Latin Modern Sans' (lmsans8-oblique.otf) oblique normal 400 normal>) = 11.05\n",
      "DEBUG:matplotlib.font_manager:findfont: score(<Font 'DejaVu Sans' (DejaVuSansCondensed-Oblique.ttf) oblique normal 400 condensed>) = 1.25\n",
      "DEBUG:matplotlib.font_manager:findfont: score(<Font 'Z003' (Z003-MediumItalic.otf) italic normal medium normal>) = 11.145\n",
      "DEBUG:matplotlib.font_manager:findfont: score(<Font 'TeX Gyre Schola' (texgyreschola-bold.otf) normal normal bold normal>) = 10.335\n",
      "DEBUG:matplotlib.font_manager:findfont: score(<Font 'Latin Modern Roman Slanted' (lmromanslant8-regular.otf) normal normal regular normal>) = 10.05\n",
      "DEBUG:matplotlib.font_manager:findfont: score(<Font 'Latin Modern Sans' (lmsans9-oblique.otf) oblique normal 400 normal>) = 11.05\n",
      "DEBUG:matplotlib.font_manager:findfont: score(<Font 'Liberation Mono' (LiberationMono-Bold.ttf) normal normal bold normal>) = 10.335\n",
      "DEBUG:matplotlib.font_manager:findfont: score(<Font 'Nimbus Roman' (NimbusRoman-Bold.otf) normal normal roman normal>) = 10.145\n",
      "DEBUG:matplotlib.font_manager:findfont: score(<Font 'URW Gothic' (URWGothic-BookOblique.otf) oblique normal book normal>) = 11.05\n",
      "DEBUG:matplotlib.font_manager:findfont: score(<Font 'Latin Modern Roman Unslanted' (lmromanunsl10-regular.otf) normal normal regular normal>) = 10.05\n",
      "DEBUG:matplotlib.font_manager:findfont: score(<Font 'Nimbus Sans' (NimbusSans-Regular.otf) normal normal 400 normal>) = 10.05\n",
      "DEBUG:matplotlib.font_manager:findfont: score(<Font 'Liberation Sans' (LiberationSans-Italic.ttf) italic normal 400 normal>) = 11.05\n",
      "DEBUG:matplotlib.font_manager:findfont: score(<Font 'Latin Modern Mono Light' (lmmonolt10-bold.otf) normal normal light normal>) = 10.24\n",
      "DEBUG:matplotlib.font_manager:findfont: score(<Font 'Liberation Serif' (LiberationSerif-Regular.ttf) normal normal 400 normal>) = 10.05\n",
      "DEBUG:matplotlib.font_manager:findfont: score(<Font 'Nimbus Sans' (NimbusSans-Bold.otf) normal normal bold normal>) = 10.335\n",
      "DEBUG:matplotlib.font_manager:findfont: score(<Font 'Latin Modern Mono Light' (lmmonolt10-oblique.otf) oblique normal light normal>) = 11.24\n",
      "DEBUG:matplotlib.font_manager:findfont: score(<Font 'Lato' (Lato-Black.ttf) normal normal black normal>) = 10.525\n",
      "DEBUG:matplotlib.font_manager:findfont: score(<Font 'Lato' (Lato-HeavyItalic.ttf) italic normal heavy normal>) = 11.43\n",
      "DEBUG:matplotlib.font_manager:findfont: score(<Font 'Lato' (Lato-Semibold.ttf) normal normal semibold normal>) = 10.24\n",
      "DEBUG:matplotlib.font_manager:findfont: score(<Font 'Latin Modern Sans' (lmsans10-oblique.otf) oblique normal 400 normal>) = 11.05\n",
      "DEBUG:matplotlib.font_manager:findfont: Matching :family=sans-serif:style=normal:variant=normal:weight=normal:stretch=normal:size=10.0 to DejaVu Sans ('/usr/share/matplotlib/mpl-data/fonts/ttf/DejaVuSans.ttf') with score of 0.050000.\n"
     ]
    },
    {
     "data": {
      "image/png": "[encoded data removed]",
      "text/plain": [
       "<Figure size 432x288 with 1 Axes>"
      ]
     },
     "metadata": {
      "needs_background": "light"
     },
     "output_type": "display_data"
    }
   ],
   "source": [
    "u_obj = SQ_CARS.utility_functions( SQ_CARS.hw_config)\n",
    "\n",
    "for i in(rfdc_handle.dac_channels):\n",
    "    if(i>3):\n",
    "        rfdc_handle.dac[i].set_readout_channel(1) # make the channel as readout pulse generating channel\n",
    "        continue\n",
    "    #print (i)\n",
    "    rfdc_handle.dac[i].set_param('mode',3, 'None') # time, or scale or None\n",
    "    rfdc_handle.dac[i].set_param('loopback',1, 'None') # time, or scale or None\n",
    "    rfdc_handle.dac[i].set_param('power_rabi',0, 'None')\n",
    "    rfdc_handle.dac[i].set_param('continuous', 1, 'None')\n",
    "    \n",
    "    w1_I = u_obj.gen_wave(SQ_CARS.config, 'gaussian', SQ_CARS.dac_exp_config[\"gaussian_pulse_duration\"], 800, 1)\n",
    "    w1_Q = u_obj.gen_wave(SQ_CARS.config, \"zero\", SQ_CARS.dac_exp_config[\"gaussian_pulse_duration\"], SQ_CARS.dac_exp_config[\"gaussian_sigma\"], 1)\n",
    "    #nn = u_obj.to_hex_scale(sample[i])\n",
    "    \n",
    "    rfdc_handle.dac[i].load_wave(w1_I, w1_Q)\n",
    "    \n",
    "rfdc_handle.dac[0].set_param('rst', 1, \"None\")\n",
    "rfdc_handle.dac[0].set_param('update', 1, \"None\")\n",
    "rfdc_handle.dac[0].set_param('rst', 0, \"None\")\n",
    "rfdc_handle.dac[0].set_param('update', 1, \"None\")"
   ]
  },
  {
   "cell_type": "code",
   "execution_count": 12,
   "id": "6605382d",
   "metadata": {},
   "outputs": [],
   "source": [
    "#init adc for capture, if not opearing in continious mode, its better to init ADC part first\n",
    "for i in(rfdc_handle.adc_channels):\n",
    "    rfdc_handle.readout[i]._dma.init_dma() # allocates buffers for data caputre from DMA\n",
    "    rfdc_handle.readout[i].init_streamer()\n",
    "    rfdc_handle.readout[i].set_filter_bypass(0) # 1: to Bypass the filter, \n",
    "    rfdc_handle.readout[i].set_adc_src_sel(1)\n",
    "rfdc_handle.readout[0].set_readout_update(1) # this is required to make changes take effect\n"
   ]
  },
  {
   "cell_type": "code",
   "execution_count": 17,
   "id": "9150d623",
   "metadata": {
    "scrolled": true
   },
   "outputs": [
    {
     "name": "stdout",
     "output_type": "stream",
     "text": [
      "freq 4.4 0\n",
      "closed sucessfully channel  0\n",
      "closed sucessfully channel  1\n",
      "closed sucessfully channel  2\n",
      "closed sucessfully channel  3\n",
      "freq 4.402 1\n",
      "closed sucessfully channel  0\n",
      "closed sucessfully channel  1\n",
      "closed sucessfully channel  2\n",
      "closed sucessfully channel  3\n",
      "freq 4.404 2\n",
      "closed sucessfully channel  0\n",
      "closed sucessfully channel  1\n",
      "closed sucessfully channel  2\n",
      "closed sucessfully channel  3\n",
      "freq 4.406000000000001 3\n",
      "closed sucessfully channel  0\n",
      "closed sucessfully channel  1\n",
      "closed sucessfully channel  2\n",
      "closed sucessfully channel  3\n",
      "freq 4.408 4\n",
      "closed sucessfully channel  0\n",
      "closed sucessfully channel  1\n",
      "closed sucessfully channel  2\n",
      "closed sucessfully channel  3\n",
      "freq 4.41 5\n",
      "closed sucessfully channel  0\n",
      "closed sucessfully channel  1\n",
      "closed sucessfully channel  2\n",
      "closed sucessfully channel  3\n",
      "freq 4.412 6\n",
      "closed sucessfully channel  0\n",
      "closed sucessfully channel  1\n",
      "closed sucessfully channel  2\n",
      "closed sucessfully channel  3\n",
      "freq 4.414000000000001 7\n",
      "closed sucessfully channel  0\n",
      "closed sucessfully channel  1\n",
      "closed sucessfully channel  2\n",
      "closed sucessfully channel  3\n",
      "freq 4.416 8\n",
      "closed sucessfully channel  0\n",
      "closed sucessfully channel  1\n",
      "closed sucessfully channel  2\n",
      "closed sucessfully channel  3\n",
      "freq 4.418 9\n",
      "closed sucessfully channel  0\n",
      "closed sucessfully channel  1\n",
      "closed sucessfully channel  2\n",
      "closed sucessfully channel  3\n",
      "freq 4.42 10\n",
      "closed sucessfully channel  0\n",
      "closed sucessfully channel  1\n",
      "closed sucessfully channel  2\n",
      "closed sucessfully channel  3\n",
      "freq 4.422000000000001 11\n",
      "closed sucessfully channel  0\n",
      "closed sucessfully channel  1\n",
      "closed sucessfully channel  2\n",
      "closed sucessfully channel  3\n",
      "freq 4.424 12\n",
      "closed sucessfully channel  0\n",
      "closed sucessfully channel  1\n",
      "closed sucessfully channel  2\n",
      "closed sucessfully channel  3\n",
      "freq 4.426 13\n",
      "closed sucessfully channel  0\n",
      "closed sucessfully channel  1\n",
      "closed sucessfully channel  2\n",
      "closed sucessfully channel  3\n",
      "freq 4.428 14\n"
     ]
    },
    {
     "ename": "KeyboardInterrupt",
     "evalue": "",
     "output_type": "error",
     "traceback": [
      "\u001b[0;31m---------------------------------------------------------------------------\u001b[0m",
      "\u001b[0;31mKeyboardInterrupt\u001b[0m                         Traceback (most recent call last)",
      "\u001b[0;32m<ipython-input-17-c18395ffc14a>\u001b[0m in \u001b[0;36m<module>\u001b[0;34m\u001b[0m\n\u001b[1;32m     27\u001b[0m         \u001b[0;32mwhile\u001b[0m\u001b[0;34m(\u001b[0m\u001b[0mrfdc_handle\u001b[0m\u001b[0;34m.\u001b[0m\u001b[0mreadout\u001b[0m\u001b[0;34m[\u001b[0m\u001b[0mk\u001b[0m\u001b[0;34m]\u001b[0m\u001b[0;34m.\u001b[0m\u001b[0m_streamer_process\u001b[0m\u001b[0;34m.\u001b[0m\u001b[0mis_alive\u001b[0m\u001b[0;34m(\u001b[0m\u001b[0;34m)\u001b[0m\u001b[0;34m)\u001b[0m\u001b[0;34m:\u001b[0m\u001b[0;34m\u001b[0m\u001b[0;34m\u001b[0m\u001b[0m\n\u001b[1;32m     28\u001b[0m \u001b[0;34m\u001b[0m\u001b[0m\n\u001b[0;32m---> 29\u001b[0;31m             \u001b[0msleep\u001b[0m\u001b[0;34m(\u001b[0m\u001b[0;36m.001\u001b[0m\u001b[0;34m)\u001b[0m\u001b[0;34m\u001b[0m\u001b[0;34m\u001b[0m\u001b[0m\n\u001b[0m\u001b[1;32m     30\u001b[0m         \u001b[0;32mtry\u001b[0m\u001b[0;34m:\u001b[0m\u001b[0;34m\u001b[0m\u001b[0;34m\u001b[0m\u001b[0m\n\u001b[1;32m     31\u001b[0m             \u001b[0;31m#rfdc_handle.readout[k]._streamer_process.terminate()\u001b[0m\u001b[0;34m\u001b[0m\u001b[0;34m\u001b[0m\u001b[0;34m\u001b[0m\u001b[0m\n",
      "\u001b[0;31mKeyboardInterrupt\u001b[0m: "
     ]
    }
   ],
   "source": [
    "#this cell does the freq sweeping from start freq to stop freq with number of steps as freq_seps\n",
    "freq_inc = (thisConfig.freq_stop - thisConfig.freq_start) / thisConfig.freq_steps\n",
    "\n",
    "for i in range(thisConfig.freq_steps):\n",
    "    freq = (thisConfig.freq_start) + i*freq_inc\n",
    "    print('freq', freq, i)\n",
    "    for j in (rfdc_handle.dac_channels):\n",
    "\n",
    "        rfdc_handle.dac[j].set_nco_freq(freq)\n",
    "        rfdc_handle.dac[j]._dac_handle.ResetNCOPhase()    \n",
    "        \n",
    "        rfdc_handle.dac[j].set_nyquist_zone(1)\n",
    "    for k in (rfdc_handle.adc_channels):\n",
    "        rfdc_handle.readout[k].set_nco_freq(freq) #(freq) #looks OK?\n",
    "        rfdc_handle.readout[k].set_nyquist_zone(1)\n",
    "        rfdc_handle.readout[k]._adc_handle.ResetNCOPhase()\n",
    "        \n",
    "        #rfdc_handle.readout[k]._adc_pipeline._filter.set_iir_params(1) # Specify the cutoff freq\n",
    "        rfdc_handle.readout[k].set_adc_src_sel(1)\n",
    "        rfdc_handle.readout[k].set_adc_theta(0)\n",
    "    rfdc_handle.readout[0].set_readout_update(1)\n",
    "    rfdc_handle.run_MTS()\n",
    "    for k in(rfdc_handle.adc_channels):\n",
    "        rfdc_handle.readout[k].init_streamer()\n",
    "        rfdc_handle.readout[k].start_readout()\n",
    "    for k in(rfdc_handle.adc_channels):\n",
    "        while(rfdc_handle.readout[k]._streamer_process.is_alive()):\n",
    "            \n",
    "            sleep(.001)\n",
    "        try:\n",
    "            #rfdc_handle.readout[k]._streamer_process.terminate()\n",
    "            #rfdc_handle.readout[k]._streamer_process.close()\n",
    "            print(\"closed sucessfully channel \", k)\n",
    "        except:\n",
    "            print(\"Thread close error for channel \", k)\n",
    "#         print(\"channel\", k,\"val for done flag\", hex(rfdc_handle.readout[k]._dma._data_buffer[0][0]))\n",
    "   \n",
    "    "
   ]
  },
  {
   "cell_type": "code",
   "execution_count": null,
   "id": "b52b5fb9",
   "metadata": {},
   "outputs": [],
   "source": []
  }
 ],
 "metadata": {
  "kernelspec": {
   "display_name": "Python 3",
   "language": "python",
   "name": "python3"
  },
  "language_info": {
   "codemirror_mode": {
    "name": "ipython",
    "version": 3
   },
   "file_extension": ".py",
   "mimetype": "text/x-python",
   "name": "python",
   "nbconvert_exporter": "python",
   "pygments_lexer": "ipython3",
   "version": "3.8.2"
  },
  "varInspector": {
   "cols": {
    "lenName": 16,
    "lenType": 16,
    "lenVar": 40
   },
   "kernels_config": {
    "python": {
     "delete_cmd_postfix": "",
     "delete_cmd_prefix": "del ",
     "library": "var_list.py",
     "varRefreshCmd": "print(var_dic_list())"
    },
    "r": {
     "delete_cmd_postfix": ") ",
     "delete_cmd_prefix": "rm(",
     "library": "var_list.r",
     "varRefreshCmd": "cat(var_dic_list()) "
    }
   },
   "position": {
    "height": "408.85px",
    "left": "1179px",
    "right": "20px",
    "top": "120px",
    "width": "337px"
   },
   "types_to_exclude": [
    "module",
    "function",
    "builtin_function_or_method",
    "instance",
    "_Feature"
   ],
   "window_display": false
  }
 },
 "nbformat": 4,
 "nbformat_minor": 5
}
