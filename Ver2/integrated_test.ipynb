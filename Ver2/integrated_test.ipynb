{
 "cells": [
  {
   "cell_type": "code",
   "execution_count": null,
   "id": "ec1ed841",
   "metadata": {
    "tags": [
     "run_once"
    ]
   },
   "outputs": [],
   "source": [
    "import numpy as np\n",
    "import xrfdc\n",
    "import xrfclk\n",
    "#from pynq import Xlnk\n",
    "from pynq import Overlay\n",
    "from pynq.lib import AxiGPIO\n",
    "from pynq import allocate\n",
    "import numpy as np\n",
    "import socket\n",
    "import time\n",
    "import sys\n",
    "from pynq import Clocks\n",
    "from time import sleep\n",
    "import multiprocessing, time\n",
    "import logging, sys\n",
    "from pynq import MMIO\n",
    "import matplotlib.pyplot as plt\n",
    "import threading\n",
    "from IPython.display import display, update_display,  clear_output\n",
    "\n",
    "import SQ_CARS\n",
    "import importlib\n",
    "from IPython.lib import backgroundjobs as bg\n",
    "# Check if the cell has been executed before\n",
    "if \"has_run\" not in globals():\n",
    "    # Your code to run only once\n",
    "    print(\"This code will run only once after kernel start.\")\n",
    "\n",
    "    # Set a flag to indicate that the code has been executed\n",
    "    has_run = True\n",
    "\n",
    "    thisConfig = SQ_CARS.mainConfig(SQ_CARS.config.config)\n",
    " # create utility object for holding various exp parameters\n",
    "else:\n",
    "    print('Bitstream will not be loaded now. To reload bitstream, please restart the kernel')"
   ]
  },
  {
   "cell_type": "code",
   "execution_count": null,
   "id": "4c66d755",
   "metadata": {
    "scrolled": false
   },
   "outputs": [],
   "source": [
    "#Provide exp parameters\n",
    "SQ_CARS.config.qubit_freq = [100] #MHz # When updating any of these parameters, update with list indexing, that will take effect in the whole framework\n",
    "SQ_CARS.config.readout_freq = [5000]#[6026.691] #MHz\n",
    "SQ_CARS.config.cro_freq = [100] #MHz\n",
    "\n",
    "SQ_CARS.config.exp_type = ['spectroscopy'] # power_rabi, #T1, #T2, #time_rabi\n",
    "SQ_CARS.config.exp_steps = [50]\n",
    "SQ_CARS.config.sample_file = '' #'numpy_array.txt' # sample_file\n",
    "\n",
    "SQ_CARS.config.wave_type = 'gaussian'\n",
    "SQ_CARS.config.wave_duration = 4000 #ns\n",
    "SQ_CARS.config.sigma_gauss = 650 #ns\n",
    "\n",
    "\n",
    "SQ_CARS.config.readout_rotation_angle = [0]\n",
    "SQ_CARS.config.start_num = [6000]\n",
    "SQ_CARS.config.end_num = [6010]\n",
    "\n",
    "\n",
    "\n",
    "#non physics params\n",
    "\n",
    "SQ_CARS.config.readout_channel_list = [1,0,0,0,0,1,1,1]\n",
    "SQ_CARS.config.freq_list = [SQ_CARS.config.readout_freq ,    SQ_CARS.config.readout_freq ,\n",
    "                            SQ_CARS.config.readout_freq ,      SQ_CARS.config.readout_freq ,\n",
    "                            SQ_CARS.config.readout_freq ,    SQ_CARS.config.readout_freq,\n",
    "                            SQ_CARS.config.readout_freq ,  SQ_CARS.config.readout_freq]\n",
    "\n",
    "SQ_CARS.config.control_amplitude_list = [50,50,50,50]\n",
    "SQ_CARS.config.readout_amplitude_list = [100,100,100,100]\n",
    "SQ_CARS.config.phase_list = [0,0,0,0,0,0,0,0]\n",
    "SQ_CARS.config.loopback = [1,1,1,1]\n",
    "SQ_CARS.config.num_of_averages = [2000]\n",
    "SQ_CARS.config.continuous = 0\n",
    "\n",
    "\n",
    "try:\n",
    "    \n",
    "    del(u_obj)\n",
    "    del(thread)\n",
    "    del(rfdc_handle)\n",
    "\n",
    "    logging.info('Executed normal')\n",
    "    #jobs = bg.BackgroundJobManager()\n",
    "except:\n",
    "        \n",
    "    logging.info('Executed except')\n",
    "    \n",
    "    \n",
    "u_obj = SQ_CARS.utility_functions(SQ_CARS.config.hw_config, thisConfig)\n",
    "\n",
    "rfdc_handle = SQ_CARS.rfdcConfig(u_obj)\n",
    "rfdc_handle.stop_task = False\n",
    "jobs = bg.BackgroundJobManager()\n",
    "#thread = threading.Thread(target=rfdc_handle.run_exp)\n",
    "#stop_event = threading.Event()\n",
    "\n",
    "# Create a new thread for the task and pass the stop event\n",
    "#thread = threading.Thread(target=rfdc_handle.run_exp, args=(stop_event,))\n",
    "\n",
    "#multiprocessing.Process(target=task_instance.run, args=(stop_task,))\n",
    "rfdc_handle.create_slider_widget()"
   ]
  },
  {
   "cell_type": "code",
   "execution_count": null,
   "id": "74ad2250",
   "metadata": {
    "scrolled": true
   },
   "outputs": [],
   "source": [
    "#asasda#rfdc_handle.run_exp()\n",
    "rfdc_handle._stop_task = False\n",
    "jj=jobs.new(rfdc_handle.run_exp)\n",
    "\n",
    "#display(rfdc_handle.progress_bar)\n",
    "#jj.start()"
   ]
  },
  {
   "cell_type": "code",
   "execution_count": null,
   "id": "c281b9cb",
   "metadata": {},
   "outputs": [],
   "source": [
    "\n",
    "rfdc_handle.stop_task_execution()\n",
    "print('task stopped')\n",
    "jj.join()"
   ]
  },
  {
   "cell_type": "code",
   "execution_count": null,
   "id": "01db52f1",
   "metadata": {},
   "outputs": [],
   "source": []
  }
 ],
 "metadata": {
  "kernelspec": {
   "display_name": "Python 3",
   "language": "python",
   "name": "python3"
  },
  "language_info": {
   "codemirror_mode": {
    "name": "ipython",
    "version": 3
   },
   "file_extension": ".py",
   "mimetype": "text/x-python",
   "name": "python",
   "nbconvert_exporter": "python",
   "pygments_lexer": "ipython3",
   "version": "3.8.2"
  }
 },
 "nbformat": 4,
 "nbformat_minor": 5
}
