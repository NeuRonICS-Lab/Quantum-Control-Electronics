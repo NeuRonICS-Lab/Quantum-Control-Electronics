{
 "cells": [
  {
   "cell_type": "code",
   "execution_count": 1,
   "id": "ec1ed841",
   "metadata": {
    "tags": [
     "run_once"
    ]
   },
   "outputs": [
    {
     "data": {
      "application/javascript": [
       "\n",
       "try {\n",
       "require(['notebook/js/codecell'], function(codecell) {\n",
       "  codecell.CodeCell.options_default.highlight_modes[\n",
       "      'magic_text/x-csrc'] = {'reg':[/^%%microblaze/]};\n",
       "  Jupyter.notebook.events.one('kernel_ready.Kernel', function(){\n",
       "      Jupyter.notebook.get_cells().map(function(cell){\n",
       "          if (cell.cell_type == 'code'){ cell.auto_highlight(); } }) ;\n",
       "  });\n",
       "});\n",
       "} catch (e) {};\n"
      ]
     },
     "metadata": {},
     "output_type": "display_data"
    },
    {
     "data": {
      "application/javascript": [
       "\n",
       "try {\n",
       "require(['notebook/js/codecell'], function(codecell) {\n",
       "  codecell.CodeCell.options_default.highlight_modes[\n",
       "      'magic_text/x-csrc'] = {'reg':[/^%%pybind11/]};\n",
       "  Jupyter.notebook.events.one('kernel_ready.Kernel', function(){\n",
       "      Jupyter.notebook.get_cells().map(function(cell){\n",
       "          if (cell.cell_type == 'code'){ cell.auto_highlight(); } }) ;\n",
       "  });\n",
       "});\n",
       "} catch (e) {};\n"
      ]
     },
     "metadata": {},
     "output_type": "display_data"
    },
    {
     "name": "stdout",
     "output_type": "stream",
     "text": [
      "passed\n",
      "This code will run only once after kernel start.\n"
     ]
    }
   ],
   "source": [
    "import numpy as np\n",
    "import xrfdc\n",
    "import xrfclk\n",
    "#from pynq import Xlnk\n",
    "from pynq import Overlay\n",
    "from pynq.lib import AxiGPIO\n",
    "from pynq import allocate\n",
    "import numpy as np\n",
    "import socket\n",
    "import time\n",
    "import sys\n",
    "from pynq import Clocks\n",
    "from time import sleep\n",
    "import multiprocessing, time\n",
    "import logging, sys\n",
    "from pynq import MMIO\n",
    "import matplotlib.pyplot as plt\n",
    "import threading\n",
    "from IPython.display import display, update_display,  clear_output\n",
    "\n",
    "import SQ_CARS\n",
    "import importlib\n",
    "from IPython.lib import backgroundjobs as bg\n",
    "# Check if the cell has been executed before\n",
    "if \"has_run\" not in globals():\n",
    "    # Your code to run only once\n",
    "    print(\"This code will run only once after kernel start.\")\n",
    "\n",
    "    # Set a flag to indicate that the code has been executed\n",
    "    has_run = True\n",
    "\n",
    "    thisConfig = SQ_CARS.mainConfig(SQ_CARS.config.config)\n",
    " # create utility object for holding various exp parameters\n",
    "else:\n",
    "    print('Bitstream will not be loaded now. To reload bitstream, please restart the kernel')"
   ]
  },
  {
   "cell_type": "code",
   "execution_count": 32,
   "id": "4c66d755",
   "metadata": {
    "scrolled": false
   },
   "outputs": [
    {
     "name": "stdout",
     "output_type": "stream",
     "text": [
      "start num in u class [6000]\n",
      "freq_list 6026.69100000021 [[6026.69100000021], [6026.69100000021], [6026.69100000021], [6026.69100000021], [6026.69100000021], [6026.69100000021], [6026.69100000021], [6026.69100000021]]\n"
     ]
    },
    {
     "data": {
      "application/vnd.jupyter.widget-view+json": {
       "model_id": "dfeeb281b1784252ad828b089aae35a7",
       "version_major": 2,
       "version_minor": 0
      },
      "text/plain": [
       "HBox(children=(VBox(children=(Dropdown(description='Channel Number:', options=(0, 1, 2, 3, 4, 5, 6, 7), value=…"
      ]
     },
     "metadata": {},
     "output_type": "display_data"
    },
    {
     "data": {
      "application/vnd.jupyter.widget-view+json": {
       "model_id": "6bb9d7fc80ad4120b6dcee68e1fe5070",
       "version_major": 2,
       "version_minor": 0
      },
      "text/plain": [
       "VBox()"
      ]
     },
     "metadata": {},
     "output_type": "display_data"
    },
    {
     "data": {
      "application/vnd.jupyter.widget-view+json": {
       "model_id": "3345b1a352744b839366731bdbc53e3a",
       "version_major": 2,
       "version_minor": 0
      },
      "text/plain": [
       "VBox(children=(Label(value='Control Ch Amplitude Scale:'), FloatSlider(value=100.0), Label(value='Control Ch P…"
      ]
     },
     "metadata": {},
     "output_type": "display_data"
    },
    {
     "data": {
      "application/vnd.jupyter.widget-view+json": {
       "model_id": "fe973a9d70eb4012b6b7a54a400ffc66",
       "version_major": 2,
       "version_minor": 0
      },
      "text/plain": [
       "VBox(children=(Output(), Output(), Output(), Output()))"
      ]
     },
     "metadata": {},
     "output_type": "display_data"
    },
    {
     "data": {
      "image/png": "[encoded data removed]",
      "text/plain": [
       "<Figure size 432x288 with 1 Axes>"
      ]
     },
     "metadata": {
      "needs_background": "light"
     },
     "output_type": "display_data"
    }
   ],
   "source": [
    "#Provide exp parameters\n",
    "SQ_CARS.config.qubit_freq = [100] #MHz # When updating any of these parameters, update with list indexing, that will take effect in the whole framework\n",
    "SQ_CARS.config.readout_freq = [6026.691] #MHz\n",
    "SQ_CARS.config.cro_freq = [100] #MHz\n",
    "\n",
    "SQ_CARS.config.exp_type = ['spectroscopy'] # power_rabi, #T1, #T2, #time_rabi\n",
    "SQ_CARS.config.exp_steps = [50]\n",
    "SQ_CARS.config.sample_file = '' #'numpy_array.txt' # sample_file\n",
    "\n",
    "SQ_CARS.config.wave_type = 'gaussian'\n",
    "SQ_CARS.config.wave_duration = 4000 #ns\n",
    "SQ_CARS.config.sigma_gauss = 650 #ns\n",
    "\n",
    "\n",
    "SQ_CARS.config.readout_rotation_angle = [0]\n",
    "SQ_CARS.config.start_num = [6000]\n",
    "SQ_CARS.config.end_num = [6010]\n",
    "\n",
    "\n",
    "\n",
    "#non physics params\n",
    "\n",
    "SQ_CARS.config.readout_channel_list = [1,0,0,0,0,1,1,1]\n",
    "SQ_CARS.config.freq_list = [SQ_CARS.config.readout_freq ,    SQ_CARS.config.readout_freq ,\n",
    "                            SQ_CARS.config.readout_freq ,      SQ_CARS.config.readout_freq ,\n",
    "                            SQ_CARS.config.readout_freq ,    SQ_CARS.config.readout_freq,\n",
    "                            SQ_CARS.config.readout_freq ,  SQ_CARS.config.readout_freq]\n",
    "\n",
    "SQ_CARS.config.control_amplitude_list = [50,50,50,50]\n",
    "SQ_CARS.config.readout_amplitude_list = [100,100,100,100]\n",
    "SQ_CARS.config.phase_list = [0,0,0,0,0,0,0,0]\n",
    "SQ_CARS.config.loopback = [1,1,1,1]\n",
    "SQ_CARS.config.num_of_averages = [100000]\n",
    "SQ_CARS.config.continuous = 0\n",
    "\n",
    "\n",
    "try:\n",
    "    \n",
    "    del(u_obj)\n",
    "    del(thread)\n",
    "    del(rfdc_handle)\n",
    "\n",
    "    logging.info('Executed normal')\n",
    "    #jobs = bg.BackgroundJobManager()\n",
    "except:\n",
    "        \n",
    "    logging.info('Executed except')\n",
    "    \n",
    "    \n",
    "u_obj = SQ_CARS.utility_functions(SQ_CARS.config.hw_config, thisConfig)\n",
    "\n",
    "rfdc_handle = SQ_CARS.rfdcConfig(u_obj)\n",
    "rfdc_handle.stop_task = False\n",
    "jobs = bg.BackgroundJobManager()\n",
    "#thread = threading.Thread(target=rfdc_handle.run_exp)\n",
    "#stop_event = threading.Event()\n",
    "\n",
    "# Create a new thread for the task and pass the stop event\n",
    "#thread = threading.Thread(target=rfdc_handle.run_exp, args=(stop_event,))\n",
    "\n",
    "#multiprocessing.Process(target=task_instance.run, args=(stop_task,))\n",
    "rfdc_handle.create_slider_widget()"
   ]
  },
  {
   "cell_type": "code",
   "execution_count": null,
   "id": "1e71c53b",
   "metadata": {},
   "outputs": [],
   "source": [
    "rfdc_handle.u_obj._start_freq"
   ]
  },
  {
   "cell_type": "code",
   "execution_count": null,
   "id": "a8a09b2d",
   "metadata": {},
   "outputs": [],
   "source": [
    "coff_list = [0,0,0,0,0,0,0,0]"
   ]
  },
  {
   "cell_type": "code",
   "execution_count": null,
   "id": "1194babd",
   "metadata": {},
   "outputs": [],
   "source": [
    "coffs1 =rfdc_handle.readout[0]._adc_handle.GetCalCoefficients(1)\n",
    "coffs2 =rfdc_handle.readout[0]._adc_handle.GetCalCoefficients(2)\n",
    "coffs3 =rfdc_handle.readout[0]._adc_handle.GetCalCoefficients(3)\n",
    "print_calib_coff(coffs1)\n",
    "print_calib_coff(coffs1)\n",
    "print_calib_coff(coffs1)"
   ]
  },
  {
   "cell_type": "code",
   "execution_count": null,
   "id": "4838402b",
   "metadata": {},
   "outputs": [],
   "source": [
    "rfdc_handle.readout[0]._adc_handle.SetCalCoefficients(1, coff_list)"
   ]
  },
  {
   "cell_type": "code",
   "execution_count": null,
   "id": "2a634746",
   "metadata": {},
   "outputs": [],
   "source": [
    "def print_calib_coff(cal_coefficients):\n",
    "    coeff0 = cal_coefficients.Coeff0\n",
    "    coeff1 = cal_coefficients.Coeff1\n",
    "    coeff2 = cal_coefficients.Coeff2\n",
    "    coeff3 = cal_coefficients.Coeff3                           \n",
    "    coeff4 = cal_coefficients.Coeff4\n",
    "    coeff5 = cal_coefficients.Coeff5\n",
    "    coeff6 = cal_coefficients.Coeff6\n",
    "    coeff7 = cal_coefficients.Coeff7\n",
    "\n",
    "    # Print the calibration coefficients\n",
    "    print(f\"Coeff0: {coeff0}\")\n",
    "    print(f\"Coeff1: {coeff1}\")\n",
    "    print(f\"Coeff2: {coeff2}\")\n",
    "    print(f\"Coeff3: {coeff3}\")\n",
    "    print(f\"Coeff4: {coeff4}\")\n",
    "    print(f\"Coeff5: {coeff5}\")\n",
    "    print(f\"Coeff6: {coeff6}\")\n",
    "    print(f\"Coeff7: {coeff7}\")"
   ]
  },
  {
   "cell_type": "code",
   "execution_count": 4,
   "id": "44593717",
   "metadata": {},
   "outputs": [
    {
     "name": "stdout",
     "output_type": "stream",
     "text": [
      "1\n"
     ]
    }
   ],
   "source": [
    "a =rfdc_handle.readout[0]._adc_handle.GetCalFreez(0)\n",
    "print(a)"
   ]
  },
  {
   "cell_type": "code",
   "execution_count": 34,
   "id": "e16ec690",
   "metadata": {},
   "outputs": [
    {
     "name": "stdout",
     "output_type": "stream",
     "text": [
      "0\n"
     ]
    }
   ],
   "source": [
    "a =rfdc_handle.readout[0]._adc_handle.SetCalFreez(0)\n",
    "print(a)"
   ]
  },
  {
   "cell_type": "code",
   "execution_count": 26,
   "id": "db6b12c7",
   "metadata": {},
   "outputs": [],
   "source": [
    "#rfdc_handle.dac[7]._dac_handle.MixerSettings['Freq'] = 5000\n",
    "rfdc_handle.dac[7].set_nyquist_zone(2)\n",
    "rfdc_handle.readout[0].set_nyquist_zone(2)"
   ]
  },
  {
   "cell_type": "code",
   "execution_count": 38,
   "id": "74ad2250",
   "metadata": {
    "scrolled": true
   },
   "outputs": [],
   "source": [
    "#asasda#rfdc_handle.run_exp()\n",
    "rfdc_handle._stop_task = False\n",
    "jj=jobs.new(rfdc_handle.run_exp)\n",
    "\n",
    "#display(rfdc_handle.progress_bar)\n",
    "#jj.start()"
   ]
  },
  {
   "cell_type": "code",
   "execution_count": null,
   "id": "e42417a3",
   "metadata": {},
   "outputs": [],
   "source": [
    "rfdc_handle.run_exp()"
   ]
  },
  {
   "cell_type": "code",
   "execution_count": null,
   "id": "299512ca",
   "metadata": {},
   "outputs": [],
   "source": [
    "for i in range(1):\n",
    "    print(rfdc_handle.readout[i]._adc_handle.NyquistZone)"
   ]
  },
  {
   "cell_type": "code",
   "execution_count": null,
   "id": "eec680c9",
   "metadata": {},
   "outputs": [],
   "source": [
    "start = [0, 100, 0, 100]\n",
    "end = [100, 0, 100, 0]\n",
    "for i in range(4):\n",
    "    SQ_CARS.config.start_num[0] = start[i]\n",
    "    SQ_CARS.config.end_num[0] = end[i]\n",
    "    rfdc_handle.u_obj.cal_exp_params()\n",
    "    \n",
    "    print('start power', rfdc_handle.u_obj._start_power)\n",
    "    rfdc_handle._stop_task = False\n",
    "    jj=jobs.new(rfdc_handle.run_exp)\n",
    "    while(jj.is_alive()==True):\n",
    "        sleep(0)\n",
    "    \n",
    "    #jj.join()\n",
    "    "
   ]
  },
  {
   "cell_type": "code",
   "execution_count": null,
   "id": "9000fbd1",
   "metadata": {},
   "outputs": [],
   "source": [
    "jj.is_alive()"
   ]
  },
  {
   "cell_type": "code",
   "execution_count": 39,
   "id": "c281b9cb",
   "metadata": {},
   "outputs": [
    {
     "name": "stdout",
     "output_type": "stream",
     "text": [
      "task stopped\n"
     ]
    }
   ],
   "source": [
    "\n",
    "rfdc_handle.stop_task_execution()\n",
    "print('task stopped')\n",
    "jj.join()"
   ]
  },
  {
   "cell_type": "code",
   "execution_count": null,
   "id": "7c362fea",
   "metadata": {},
   "outputs": [],
   "source": [
    "rfdc_handle.rf.get_adc_calibration_coefficients"
   ]
  },
  {
   "cell_type": "code",
   "execution_count": null,
   "id": "a0e3a838",
   "metadata": {},
   "outputs": [],
   "source": [
    "rfdc_handle.o1.ip_dict"
   ]
  },
  {
   "cell_type": "code",
   "execution_count": null,
   "id": "c9b83a26",
   "metadata": {},
   "outputs": [],
   "source": [
    "rfdc_handle.readout[0]._adc_handle.CalFreeze['FreezeCalibration']=1"
   ]
  },
  {
   "cell_type": "code",
   "execution_count": null,
   "id": "c25c320b",
   "metadata": {},
   "outputs": [],
   "source": []
  },
  {
   "cell_type": "code",
   "execution_count": null,
   "id": "1ac5377c",
   "metadata": {},
   "outputs": [],
   "source": [
    "rfdc_handle.u_obj._end_trigger_delay/99"
   ]
  },
  {
   "cell_type": "code",
   "execution_count": null,
   "id": "13d8b975",
   "metadata": {},
   "outputs": [],
   "source": [
    "print(a)"
   ]
  },
  {
   "cell_type": "code",
   "execution_count": null,
   "id": "2e3e8b2b",
   "metadata": {},
   "outputs": [],
   "source": [
    "int((rfdc_handle.u_obj._start_power - rfdc_handle.u_obj._start_trigger_delay ) / (rfdc_handle.u_obj._exp_steps-1))"
   ]
  },
  {
   "cell_type": "code",
   "execution_count": null,
   "id": "4fd47ef6",
   "metadata": {
    "scrolled": true
   },
   "outputs": [],
   "source": [
    "#def create_slider_widget(self):\n",
    "# Define the callback functions for each slider\n",
    "import ipywidgets as widgets\n",
    "self = rfdc_handle\n",
    "self._slider_ch_num = 0\n",
    "def slider1_callback(value):\n",
    "    with slider1_output:\n",
    "        clear_output(wait=True)\n",
    "        new_value = value['new']\n",
    "        print(f\"Amplitude: {new_value} for channel {self._slider_ch_num}\")\n",
    "        self.dac[self._slider_ch_num].set_param('amplitude_factor_direct', new_value, 'scale')\n",
    "\n",
    "def slider2_callback(value):\n",
    "    with slider2_output:\n",
    "        clear_output(wait=True)\n",
    "        new_value = value['new']\n",
    "        print(f\"Phase: {new_value}\")\n",
    "        self.dac[self._slider_ch_num].set_nco_phase(new_value)\n",
    "        self.run_MTS()\n",
    "\n",
    "def slider3_callback(value):\n",
    "    with slider3_output:\n",
    "        clear_output(wait=True)\n",
    "        new_value = value['new']\n",
    "        quad = int(new_value/90)\n",
    "        theta = new_value//4\n",
    "        print(f\"Rotation: {new_value}\")\n",
    "        self.readout[0].set_adc_quad(quad)\n",
    "        self.readout[0].set_adc_theta(theta)\n",
    "\n",
    "def slider4_callback(value):\n",
    "    with slider4_output:\n",
    "        clear_output(wait=True)\n",
    "        new_value = value['new']\n",
    "        print(f\"Readout Amplitude: {new_value}\")\n",
    "        self.dac[self._slider_ch_num].set_param('amplitude_factor_direct', new_value, 'scale')\n",
    "        self.dac[self._slider_ch_num].set_param('trigger_scaled_value', new_value, 'scale')\n",
    "\n",
    "#         # Define the callback function for the button\n",
    "#         def button_callback(button):\n",
    "#             input_number = int(number_input.value)\n",
    "#             if 0 <= input_number <= 7:  # Define the desired number limit\n",
    "#                 with number_output:\n",
    "#                     clear_output(wait=True)\n",
    "#                     self._slider_ch_num = input_number\n",
    "#                     print(\"Channel number: \", input_number)\n",
    "#             else:\n",
    "#                 with number_output:\n",
    "#                     clear_output(wait=True)\n",
    "#                     print(\"Invalid input. Please enter a number between 0 and 7\")\n",
    "def number_dropdown_callback(button):\n",
    "    input_number = int(number_dropdown.value)\n",
    "    if 0 <= input_number <= 7:  # Define the desired number limit\n",
    "        with number_output:\n",
    "            clear_output(wait=True)\n",
    "            self._slider_ch_num = input_number\n",
    "            print(\"Channel Number:\", input_number)\n",
    "    else:\n",
    "        with number_output:\n",
    "            clear_output(wait=True)\n",
    "            print(\"Invalid input. Please select a number between 0 and 7\")\n",
    "\n",
    "# Define the callback function for the string button\n",
    "def string_dropdown_callback(button):\n",
    "    input_string = str(string_dropdown.value)\n",
    "    with string_output:\n",
    "        clear_output(wait=True)\n",
    "        print(\"Experiment Type: (Mode/Exp Type Changes for all channels)\", input_string)\n",
    "        self.u_obj._exp_type[0] = input_string\n",
    "        self.u_obj.cal_exp_params()\n",
    "        self.update_mode()\n",
    "def number1_dropdown_callback(button):\n",
    "    input_number = int(number1_dropdown.value)\n",
    "    with number1_output:\n",
    "        clear_output(wait=True)\n",
    "        self.dac[self._slider_ch_num].set_readout_channel(input_number)\n",
    "        ss = 'Readout Ch' if (input_number ==1) else 'Control Ch'\n",
    "        print(\"Channel Number:\", self._slider_ch_num, \" is\" , ss, \"now\")\n",
    "def loopback_dropdown_callback(button):\n",
    "    input_number = int(number1_dropdown.value)\n",
    "    with loopback_output:\n",
    "        clear_output(wait=True)\n",
    "        #self.dac[self._slider_ch_num].set_readout_channel(input_number)\n",
    "        if(self._slider_ch_num>3):\n",
    "            ss = f'Given channel no is {self._slider_ch_num} but this will update channel no {self._slider_ch_num%4} '\n",
    "            \n",
    "           \n",
    "        else:\n",
    "            ss = 'in loopback' if (input_number ==1) else 'not in loopback'\n",
    "        print(\"Loopback Channel Number:\", self._slider_ch_num,  ss)\n",
    "        \n",
    "        self.u_obj._loopback[self._slider_ch_num%4] = input_number\n",
    "        self.update_loopback()\n",
    "def input_number1_callback(value):\n",
    "        with input_number1_output:\n",
    "            clear_output(wait=True)\n",
    "            new_value = value['new']\n",
    "            config.start_num[0] = new_value\n",
    "            self.u_obj.cal_exp_params()\n",
    "            print(f\"Start number for exp is: {new_value}\")\n",
    "            # Perform desired actions with new_value\n",
    "\n",
    "def input_number2_callback(value):\n",
    "    with input_number2_output:\n",
    "        clear_output(wait=True)\n",
    "        new_value = value['new']\n",
    "        config.end_num[0] = new_value\n",
    "        self.u_obj.cal_exp_params()\n",
    "        print(f\"End number for exp is: {new_value}\")\n",
    "            # Perform desired actions with new_value\n",
    "def input_exp_steps_callback(value):\n",
    "    with input_exp_steps_output:\n",
    "        clear_output(wait=True)\n",
    "        new_value = value['new']\n",
    "        config.exp_steps = new_value\n",
    "        self.u_obj.cal_exp_params()\n",
    "        print(f\"Experment Steps are : {new_value}\")\n",
    "\n",
    "# Create the slider descriptions with long names\n",
    "slider1_label = widgets.Label(value='Control Ch Amplitude Scale:')\n",
    "slider2_label = widgets.Label(value='Control Ch Phase Scale2 (in Degrees):')\n",
    "slider3_label = widgets.Label(value='Readout Rotation angle (in Degrees):')\n",
    "slider4_label = widgets.Label(value='Readout Ch Amplitude Scale:')\n",
    "\n",
    "# Create the sliders\n",
    "slider1 = widgets.FloatSlider(min=0, max=100, step=0.1, value = self.dac[self._slider_ch_num].get_param('amplitude_factor_direct') )\n",
    "slider2 = widgets.FloatSlider(min=0, max=179, step=1, value = self.dac[self._slider_ch_num]._nco_phase)\n",
    "slider3 = widgets.FloatSlider(min=0, max=360, step=1, value = self.readout[0].get_adc_theta() )\n",
    "slider4 = widgets.FloatSlider(min=0, max=100, step=0.1, value = self.dac[self._slider_ch_num].get_param('trigger_scaled_value'))\n",
    "\n",
    "\n",
    "# Register the callbacks to the slider events\n",
    "slider1.observe(slider1_callback, 'value')\n",
    "slider2.observe(slider2_callback, 'value')\n",
    "slider3.observe(slider3_callback, 'value')\n",
    "slider4.observe(slider4_callback, 'value')\n",
    "\n",
    "# Create the number input field and button\n",
    "#         number_input = widgets.IntText(description='Number:', min=0, max=100)  # Set the desired number limits\n",
    "#         button = widgets.Button(description='Submit')\n",
    "#         button.on_click(button_callback)\n",
    "\n",
    "# Create the number dropdown menu\n",
    "number_values = list(range(8))  # Define the range of numbers\n",
    "number_dropdown = widgets.Dropdown(options=number_values, description='Channel Number:')\n",
    "number_dropdown.observe(number_dropdown_callback, 'value')\n",
    "# Create the string dropdown menu\n",
    "string_values = ['power_rabi', 'time_rabi', 'T1', 'T2', 'cw', 'power_rabi_2pulses']  # Define the predefined string values\n",
    "string_dropdown = widgets.Dropdown(options=string_values, description='Exp Type:', value = self.u_obj._exp_type[0])\n",
    "string_dropdown.observe(string_dropdown_callback, 'value')\n",
    " # Create the string dropdown menu for readout channel\n",
    "number1_values = list(range(2))  # Define the range of numbers\n",
    "number1_dropdown = widgets.Dropdown(options=number1_values, description='Is Readout ?', value = self.u_obj._readout_channel_list[self._slider_ch_num])\n",
    "number1_dropdown.observe(number1_dropdown_callback, 'value')\n",
    "#Create loopback dropdown\n",
    "loopback_values = list(range(2))  # Define the range of numbers\n",
    "loopback_dropdown = widgets.Dropdown(options=loopback_values, description='Is Loopback ?', value = self.u_obj._readout_channel_list[self._slider_ch_num])\n",
    "loopback_dropdown.observe(loopback_dropdown_callback, 'value')\n",
    "\n",
    "input_number1 = widgets.IntText(description='start_num:', value = SQ_CARS.config.start_num[0])\n",
    "input_number2 = widgets.IntText(description='end_num:', value = SQ_CARS.config.end_num[0])\n",
    "input_exp_steps = widgets.IntText(description='exp_steps:', value = SQ_CARS.config.exp_steps)\n",
    "\n",
    "input_number1.observe(input_number1_callback, 'value')\n",
    "input_number2.observe(input_number2_callback, 'value')\n",
    "input_exp_steps.observe(input_exp_steps_callback, 'value')\n",
    "# Create output widgets\n",
    "slider1_output = widgets.Output()\n",
    "slider2_output = widgets.Output()\n",
    "slider3_output = widgets.Output()\n",
    "slider4_output = widgets.Output()\n",
    "number_output = widgets.Output()\n",
    "string_output = widgets.Output()\n",
    "number1_output = widgets.Output()\n",
    "loopback_output  = widgets.Output()\n",
    "input_number1_output=widgets.Output()\n",
    "input_number2_output=widgets.Output()\n",
    "input_exp_steps_output=widgets.Output()\n",
    "\n",
    "\n",
    "# Create layout containers\n",
    "slider_box = widgets.VBox([slider1_label, slider1, slider2_label, slider2, slider3_label, slider3, slider4_label, slider4])\n",
    "output_box = widgets.VBox()\n",
    "input_box = widgets.VBox([ number_dropdown, loopback_dropdown, string_dropdown, number1_dropdown, input_number1, input_number2, input_exp_steps])\n",
    "#output_area = widgets.VBox()\n",
    "output_area = widgets.VBox([slider1_output, slider2_output, slider3_output, slider4_output])\n",
    "\n",
    "\n",
    "\n",
    "\n",
    "# Display the layout containers and output widgets\n",
    "display(widgets.HBox([input_box, widgets.VBox([number_output, string_output, number1_output, loopback_output, input_number1_output, input_number2_output])]), output_box, slider_box, output_area)"
   ]
  },
  {
   "cell_type": "code",
   "execution_count": null,
   "id": "01db52f1",
   "metadata": {},
   "outputs": [],
   "source": []
  }
 ],
 "metadata": {
  "kernelspec": {
   "display_name": "Python 3",
   "language": "python",
   "name": "python3"
  },
  "language_info": {
   "codemirror_mode": {
    "name": "ipython",
    "version": 3
   },
   "file_extension": ".py",
   "mimetype": "text/x-python",
   "name": "python",
   "nbconvert_exporter": "python",
   "pygments_lexer": "ipython3",
   "version": "3.8.2"
  }
 },
 "nbformat": 4,
 "nbformat_minor": 5
}
